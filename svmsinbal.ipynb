{
 "cells": [
  {
   "cell_type": "code",
   "execution_count": 1,
   "metadata": {},
   "outputs": [
    {
     "name": "stderr",
     "output_type": "stream",
     "text": [
      "2024-05-26 16:37:56.939067: I external/local_tsl/tsl/cuda/cudart_stub.cc:32] Could not find cuda drivers on your machine, GPU will not be used.\n",
      "2024-05-26 16:37:56.942419: I external/local_tsl/tsl/cuda/cudart_stub.cc:32] Could not find cuda drivers on your machine, GPU will not be used.\n",
      "2024-05-26 16:37:56.977611: I tensorflow/core/platform/cpu_feature_guard.cc:210] This TensorFlow binary is optimized to use available CPU instructions in performance-critical operations.\n",
      "To enable the following instructions: AVX2 FMA, in other operations, rebuild TensorFlow with the appropriate compiler flags.\n",
      "2024-05-26 16:37:57.691912: W tensorflow/compiler/tf2tensorrt/utils/py_utils.cc:38] TF-TRT Warning: Could not find TensorRT\n"
     ]
    }
   ],
   "source": [
    "import os\n",
    "import cv2\n",
    "import numpy as np\n",
    "import matplotlib.pyplot as plt\n",
    "import pandas as pd\n",
    "import seaborn as sns\n",
    "from edu.javerianacali.create_dataset import CreateDataSet\n",
    "from edu.javerianacali.model.ccn_model import ConvulationalNeuralNetwork\n",
    "from edu.javerianacali.model.logistic_regression_model import LogisticRegressionModel\n",
    "from edu.javerianacali.process_images import ProcessImages\n",
    "from edu.javerianacali.data_aumentation import DataAugmentation\n",
    "from edu.javerianacali.model.svm_model import SupportVectorMachineModel\n",
    "directorio = \"/data/maestria/maestriasinpro/proyectodegrado/pujc-advocato-filter-project-mngr/assets\"\n"
   ]
  },
  {
   "cell_type": "markdown",
   "metadata": {},
   "source": [
    "# AUMENTO DE DATOS"
   ]
  },
  {
   "cell_type": "code",
   "execution_count": null,
   "metadata": {},
   "outputs": [],
   "source": [
    "\n",
    "from edu.javerianacali.data_aumentation import DataAugmentation\n",
    "\n",
    "DataAugmentation().augment_images(directorio+'/poquitas'\n",
    "\n",
    ")"
   ]
  },
  {
   "cell_type": "markdown",
   "metadata": {},
   "source": [
    "# PROCESAR INAGENES PARA MODELOS DE APRENDIZAJE SUPERVISADO"
   ]
  },
  {
   "cell_type": "code",
   "execution_count": null,
   "metadata": {},
   "outputs": [],
   "source": [
    "path=directorio+'/poquitas'\n",
    "archivos = os.listdir(path)\n",
    "for archivo in archivos:\n",
    "    if archivo.endswith((\".jpg\", \".JPG\", \".jpeg\", \".png\")):\n",
    "        ruta_imagen = os.path.join(path, archivo)\n",
    "        titulos = [\"Ori\", \"SinTex\",\"Sinsomb\", archivo]\n",
    "        imagenes = ProcessImages().procesar_imagen(ruta_imagen,archivo,directorio,200,200)\n",
    "        ProcessImages().mostrar_imagenes(titulos, imagenes)\n",
    "\n"
   ]
  },
  {
   "cell_type": "code",
   "execution_count": null,
   "metadata": {},
   "outputs": [],
   "source": [
    "\n",
    "\n",
    "from edu.javerianacali.model.svm_model import SupportVectorMachineModel\n",
    "create_dataset = CreateDataSet().create_dataset(directorio)\n",
    "features, labels = create_dataset[0], create_dataset[1]\n",
    "print(features)\n",
    "SupportVectorMachineModel().train_svm_model(features, labels)\n"
   ]
  }
 ],
 "metadata": {
  "kernelspec": {
   "display_name": "Python 3",
   "language": "python",
   "name": "python3"
  },
  "language_info": {
   "codemirror_mode": {
    "name": "ipython",
    "version": 3
   },
   "file_extension": ".py",
   "mimetype": "text/x-python",
   "name": "python",
   "nbconvert_exporter": "python",
   "pygments_lexer": "ipython3",
   "version": "3.12.3"
  }
 },
 "nbformat": 4,
 "nbformat_minor": 2
}
