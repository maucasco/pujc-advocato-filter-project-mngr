{
 "cells": [
  {
   "cell_type": "code",
   "execution_count": 1,
   "metadata": {},
   "outputs": [
    {
     "name": "stderr",
     "output_type": "stream",
     "text": [
      "2024-05-26 16:37:56.939067: I external/local_tsl/tsl/cuda/cudart_stub.cc:32] Could not find cuda drivers on your machine, GPU will not be used.\n",
      "2024-05-26 16:37:56.942419: I external/local_tsl/tsl/cuda/cudart_stub.cc:32] Could not find cuda drivers on your machine, GPU will not be used.\n",
      "2024-05-26 16:37:56.977611: I tensorflow/core/platform/cpu_feature_guard.cc:210] This TensorFlow binary is optimized to use available CPU instructions in performance-critical operations.\n",
      "To enable the following instructions: AVX2 FMA, in other operations, rebuild TensorFlow with the appropriate compiler flags.\n",
      "2024-05-26 16:37:57.691912: W tensorflow/compiler/tf2tensorrt/utils/py_utils.cc:38] TF-TRT Warning: Could not find TensorRT\n"
     ]
    }
   ],
   "source": [
    "import os\n",
    "import cv2\n",
    "import numpy as np\n",
    "import matplotlib.pyplot as plt\n",
    "import pandas as pd\n",
    "import seaborn as sns\n",
    "from edu.javerianacali.create_dataset import CreateDataSet\n",
    "from edu.javerianacali.model.ccn_model import ConvulationalNeuralNetwork\n",
    "from edu.javerianacali.model.logistic_regression_model import LogisticRegressionModel\n",
    "from edu.javerianacali.process_images import ProcessImages\n",
    "from edu.javerianacali.data_aumentation import DataAugmentation\n",
    "from edu.javerianacali.model.svm_model import SupportVectorMachineModel\n",
    "directorio = \"/data/maestria/maestriasinpro/proyectodegrado/pujc-advocato-filter-project-mngr/assets\"\n"
   ]
  },
  {
   "cell_type": "markdown",
   "metadata": {},
   "source": [
    "# AUMENTO DE DATOS"
   ]
  },
  {
   "cell_type": "code",
   "execution_count": null,
   "metadata": {},
   "outputs": [],
   "source": [
    "\n",
    "from edu.javerianacali.data_aumentation import DataAugmentation\n",
    "\n",
    "DataAugmentation().augment_images(directorio+'/poquitas'\n",
    "\n",
    ")"
   ]
  },
  {
   "cell_type": "markdown",
   "metadata": {},
   "source": [
    "# PROCESAR INAGENES PARA MODELOS DE APRENDIZAJE SUPERVISADO"
   ]
  },
  {
   "cell_type": "code",
   "execution_count": null,
   "metadata": {},
   "outputs": [],
   "source": [
    "path=directorio+'/poquitas'\n",
    "archivos = os.listdir(path)\n",
    "for archivo in archivos:\n",
    "    if archivo.endswith((\".jpg\", \".JPG\", \".jpeg\", \".png\")):\n",
    "        ruta_imagen = os.path.join(path, archivo)\n",
    "        titulos = [\"Ori\", \"SinTex\",\"Sinsomb\", archivo]\n",
    "        imagenes = ProcessImages().procesar_imagen(ruta_imagen,archivo,directorio,200,200)\n",
    "        ProcessImages().mostrar_imagenes(titulos, imagenes)\n",
    "\n"
   ]
  },
  {
   "cell_type": "markdown",
   "metadata": {},
   "source": [
    "# RED NEURONAL"
   ]
  },
  {
   "cell_type": "code",
   "execution_count": null,
   "metadata": {},
   "outputs": [],
   "source": [
    "path=directorio\n",
    "archivos = os.listdir(path)\n",
    "for archivo in archivos:\n",
    "    if archivo.endswith((\".jpg\", \".JPG\", \".jpeg\", \".png\")):\n",
    "        ruta_imagen = os.path.join(path, archivo)\n",
    "        titulos = [\"Ori\", \"SinTex\",\"Sinsomb\", archivo]\n",
    "        imagenes = ProcessImages().procesar_imagen(ruta_imagen,archivo,directorio,200,200)\n",
    "       # ProcessImages().mostrar_imagenes(titulos, imagenes)\n",
    "\n"
   ]
  },
  {
   "cell_type": "code",
   "execution_count": null,
   "metadata": {},
   "outputs": [],
   "source": [
    "\n",
    "CreateDataSet().create_dataset_cnn(directorio)"
   ]
  },
  {
   "cell_type": "code",
   "execution_count": null,
   "metadata": {},
   "outputs": [],
   "source": [
    "directorio = \"/data/maestria/maestriasinpro/proyectodegrado/pujc-advocato-filter-project-mngr/assets\"\n",
    "import tensorflow as tf\n",
    "from tensorflow.keras.preprocessing.image import ImageDataGenerator\n",
    "from edu.javerianacali.create_dataset import CreateDataSet\n",
    "from tensorflow.keras.models import Sequential\n",
    "from tensorflow.keras.layers import Conv2D, MaxPooling2D, Flatten, Dense\n",
    "import matplotlib.pyplot as plt\n",
    "        # Crea un generador de datos de im,target_size=(200,200)agen con normalización500\n",
    "\n",
    "\n",
    "\n",
    "\n",
    "datagen = ImageDataGenerator(  rescale=1./255,\n",
    "    horizontal_flip=True,\n",
    "    fill_mode='nearest')\n",
    "print(directorio\n",
    "+'/train')\n",
    "# Carga las imágenes desde el directorio\n",
    "generator = datagen.flow_from_directory(\n",
    "directorio+'/train',\n",
    "target_size=(200, 200),  \n",
    "batch_size=32,\n",
    "class_mode='categorical' )\n",
    "\n",
    "\n",
    "# Generador de datos de validación\n",
    "validation_datagen = ImageDataGenerator(rescale=1./255)\n",
    "validation_generator = validation_datagen.flow_from_directory(\n",
    "    directorio+'/test',# Directorios de entrenamiento y validación\n",
    "\n",
    "    target_size=(200, 200),\n",
    "    batch_size=32,\n",
    "    class_mode='categorical'\n",
    ")\n"
   ]
  },
  {
   "cell_type": "code",
   "execution_count": 6,
   "metadata": {},
   "outputs": [
    {
     "name": "stderr",
     "output_type": "stream",
     "text": [
      "/home/maucasco/.local/lib/python3.12/site-packages/keras/src/layers/convolutional/base_conv.py:107: UserWarning: Do not pass an `input_shape`/`input_dim` argument to a layer. When using Sequential models, prefer using an `Input(shape)` object as the first layer in the model instead.\n",
      "  super().__init__(activity_regularizer=activity_regularizer, **kwargs)\n"
     ]
    },
    {
     "data": {
      "text/html": [
       "<pre style=\"white-space:pre;overflow-x:auto;line-height:normal;font-family:Menlo,'DejaVu Sans Mono',consolas,'Courier New',monospace\"><span style=\"font-weight: bold\">Model: \"sequential\"</span>\n",
       "</pre>\n"
      ],
      "text/plain": [
       "\u001b[1mModel: \"sequential\"\u001b[0m\n"
      ]
     },
     "metadata": {},
     "output_type": "display_data"
    },
    {
     "data": {
      "text/html": [
       "<pre style=\"white-space:pre;overflow-x:auto;line-height:normal;font-family:Menlo,'DejaVu Sans Mono',consolas,'Courier New',monospace\">┏━━━━━━━━━━━━━━━━━━━━━━━━━━━━━━━━━┳━━━━━━━━━━━━━━━━━━━━━━━━┳━━━━━━━━━━━━━━━┓\n",
       "┃<span style=\"font-weight: bold\"> Layer (type)                    </span>┃<span style=\"font-weight: bold\"> Output Shape           </span>┃<span style=\"font-weight: bold\">       Param # </span>┃\n",
       "┡━━━━━━━━━━━━━━━━━━━━━━━━━━━━━━━━━╇━━━━━━━━━━━━━━━━━━━━━━━━╇━━━━━━━━━━━━━━━┩\n",
       "│ conv2d (<span style=\"color: #0087ff; text-decoration-color: #0087ff\">Conv2D</span>)                 │ (<span style=\"color: #00d7ff; text-decoration-color: #00d7ff\">None</span>, <span style=\"color: #00af00; text-decoration-color: #00af00\">200</span>, <span style=\"color: #00af00; text-decoration-color: #00af00\">200</span>, <span style=\"color: #00af00; text-decoration-color: #00af00\">64</span>)   │         <span style=\"color: #00af00; text-decoration-color: #00af00\">1,792</span> │\n",
       "├─────────────────────────────────┼────────────────────────┼───────────────┤\n",
       "│ max_pooling2d (<span style=\"color: #0087ff; text-decoration-color: #0087ff\">MaxPooling2D</span>)    │ (<span style=\"color: #00d7ff; text-decoration-color: #00d7ff\">None</span>, <span style=\"color: #00af00; text-decoration-color: #00af00\">100</span>, <span style=\"color: #00af00; text-decoration-color: #00af00\">100</span>, <span style=\"color: #00af00; text-decoration-color: #00af00\">64</span>)   │             <span style=\"color: #00af00; text-decoration-color: #00af00\">0</span> │\n",
       "├─────────────────────────────────┼────────────────────────┼───────────────┤\n",
       "│ conv2d_1 (<span style=\"color: #0087ff; text-decoration-color: #0087ff\">Conv2D</span>)               │ (<span style=\"color: #00d7ff; text-decoration-color: #00d7ff\">None</span>, <span style=\"color: #00af00; text-decoration-color: #00af00\">100</span>, <span style=\"color: #00af00; text-decoration-color: #00af00\">100</span>, <span style=\"color: #00af00; text-decoration-color: #00af00\">128</span>)  │        <span style=\"color: #00af00; text-decoration-color: #00af00\">73,856</span> │\n",
       "├─────────────────────────────────┼────────────────────────┼───────────────┤\n",
       "│ max_pooling2d_1 (<span style=\"color: #0087ff; text-decoration-color: #0087ff\">MaxPooling2D</span>)  │ (<span style=\"color: #00d7ff; text-decoration-color: #00d7ff\">None</span>, <span style=\"color: #00af00; text-decoration-color: #00af00\">50</span>, <span style=\"color: #00af00; text-decoration-color: #00af00\">50</span>, <span style=\"color: #00af00; text-decoration-color: #00af00\">128</span>)    │             <span style=\"color: #00af00; text-decoration-color: #00af00\">0</span> │\n",
       "├─────────────────────────────────┼────────────────────────┼───────────────┤\n",
       "│ conv2d_2 (<span style=\"color: #0087ff; text-decoration-color: #0087ff\">Conv2D</span>)               │ (<span style=\"color: #00d7ff; text-decoration-color: #00d7ff\">None</span>, <span style=\"color: #00af00; text-decoration-color: #00af00\">50</span>, <span style=\"color: #00af00; text-decoration-color: #00af00\">50</span>, <span style=\"color: #00af00; text-decoration-color: #00af00\">256</span>)    │       <span style=\"color: #00af00; text-decoration-color: #00af00\">295,168</span> │\n",
       "├─────────────────────────────────┼────────────────────────┼───────────────┤\n",
       "│ max_pooling2d_2 (<span style=\"color: #0087ff; text-decoration-color: #0087ff\">MaxPooling2D</span>)  │ (<span style=\"color: #00d7ff; text-decoration-color: #00d7ff\">None</span>, <span style=\"color: #00af00; text-decoration-color: #00af00\">25</span>, <span style=\"color: #00af00; text-decoration-color: #00af00\">25</span>, <span style=\"color: #00af00; text-decoration-color: #00af00\">256</span>)    │             <span style=\"color: #00af00; text-decoration-color: #00af00\">0</span> │\n",
       "├─────────────────────────────────┼────────────────────────┼───────────────┤\n",
       "│ conv2d_3 (<span style=\"color: #0087ff; text-decoration-color: #0087ff\">Conv2D</span>)               │ (<span style=\"color: #00d7ff; text-decoration-color: #00d7ff\">None</span>, <span style=\"color: #00af00; text-decoration-color: #00af00\">25</span>, <span style=\"color: #00af00; text-decoration-color: #00af00\">25</span>, <span style=\"color: #00af00; text-decoration-color: #00af00\">512</span>)    │     <span style=\"color: #00af00; text-decoration-color: #00af00\">1,180,160</span> │\n",
       "├─────────────────────────────────┼────────────────────────┼───────────────┤\n",
       "│ max_pooling2d_3 (<span style=\"color: #0087ff; text-decoration-color: #0087ff\">MaxPooling2D</span>)  │ (<span style=\"color: #00d7ff; text-decoration-color: #00d7ff\">None</span>, <span style=\"color: #00af00; text-decoration-color: #00af00\">12</span>, <span style=\"color: #00af00; text-decoration-color: #00af00\">12</span>, <span style=\"color: #00af00; text-decoration-color: #00af00\">512</span>)    │             <span style=\"color: #00af00; text-decoration-color: #00af00\">0</span> │\n",
       "├─────────────────────────────────┼────────────────────────┼───────────────┤\n",
       "│ conv2d_4 (<span style=\"color: #0087ff; text-decoration-color: #0087ff\">Conv2D</span>)               │ (<span style=\"color: #00d7ff; text-decoration-color: #00d7ff\">None</span>, <span style=\"color: #00af00; text-decoration-color: #00af00\">12</span>, <span style=\"color: #00af00; text-decoration-color: #00af00\">12</span>, <span style=\"color: #00af00; text-decoration-color: #00af00\">512</span>)    │     <span style=\"color: #00af00; text-decoration-color: #00af00\">2,359,808</span> │\n",
       "├─────────────────────────────────┼────────────────────────┼───────────────┤\n",
       "│ max_pooling2d_4 (<span style=\"color: #0087ff; text-decoration-color: #0087ff\">MaxPooling2D</span>)  │ (<span style=\"color: #00d7ff; text-decoration-color: #00d7ff\">None</span>, <span style=\"color: #00af00; text-decoration-color: #00af00\">6</span>, <span style=\"color: #00af00; text-decoration-color: #00af00\">6</span>, <span style=\"color: #00af00; text-decoration-color: #00af00\">512</span>)      │             <span style=\"color: #00af00; text-decoration-color: #00af00\">0</span> │\n",
       "├─────────────────────────────────┼────────────────────────┼───────────────┤\n",
       "│ flatten (<span style=\"color: #0087ff; text-decoration-color: #0087ff\">Flatten</span>)               │ (<span style=\"color: #00d7ff; text-decoration-color: #00d7ff\">None</span>, <span style=\"color: #00af00; text-decoration-color: #00af00\">18432</span>)          │             <span style=\"color: #00af00; text-decoration-color: #00af00\">0</span> │\n",
       "├─────────────────────────────────┼────────────────────────┼───────────────┤\n",
       "│ dropout (<span style=\"color: #0087ff; text-decoration-color: #0087ff\">Dropout</span>)               │ (<span style=\"color: #00d7ff; text-decoration-color: #00d7ff\">None</span>, <span style=\"color: #00af00; text-decoration-color: #00af00\">18432</span>)          │             <span style=\"color: #00af00; text-decoration-color: #00af00\">0</span> │\n",
       "├─────────────────────────────────┼────────────────────────┼───────────────┤\n",
       "│ dense (<span style=\"color: #0087ff; text-decoration-color: #0087ff\">Dense</span>)                   │ (<span style=\"color: #00d7ff; text-decoration-color: #00d7ff\">None</span>, <span style=\"color: #00af00; text-decoration-color: #00af00\">256</span>)            │     <span style=\"color: #00af00; text-decoration-color: #00af00\">4,718,848</span> │\n",
       "├─────────────────────────────────┼────────────────────────┼───────────────┤\n",
       "│ dense_1 (<span style=\"color: #0087ff; text-decoration-color: #0087ff\">Dense</span>)                 │ (<span style=\"color: #00d7ff; text-decoration-color: #00d7ff\">None</span>, <span style=\"color: #00af00; text-decoration-color: #00af00\">2</span>)              │           <span style=\"color: #00af00; text-decoration-color: #00af00\">514</span> │\n",
       "└─────────────────────────────────┴────────────────────────┴───────────────┘\n",
       "</pre>\n"
      ],
      "text/plain": [
       "┏━━━━━━━━━━━━━━━━━━━━━━━━━━━━━━━━━┳━━━━━━━━━━━━━━━━━━━━━━━━┳━━━━━━━━━━━━━━━┓\n",
       "┃\u001b[1m \u001b[0m\u001b[1mLayer (type)                   \u001b[0m\u001b[1m \u001b[0m┃\u001b[1m \u001b[0m\u001b[1mOutput Shape          \u001b[0m\u001b[1m \u001b[0m┃\u001b[1m \u001b[0m\u001b[1m      Param #\u001b[0m\u001b[1m \u001b[0m┃\n",
       "┡━━━━━━━━━━━━━━━━━━━━━━━━━━━━━━━━━╇━━━━━━━━━━━━━━━━━━━━━━━━╇━━━━━━━━━━━━━━━┩\n",
       "│ conv2d (\u001b[38;5;33mConv2D\u001b[0m)                 │ (\u001b[38;5;45mNone\u001b[0m, \u001b[38;5;34m200\u001b[0m, \u001b[38;5;34m200\u001b[0m, \u001b[38;5;34m64\u001b[0m)   │         \u001b[38;5;34m1,792\u001b[0m │\n",
       "├─────────────────────────────────┼────────────────────────┼───────────────┤\n",
       "│ max_pooling2d (\u001b[38;5;33mMaxPooling2D\u001b[0m)    │ (\u001b[38;5;45mNone\u001b[0m, \u001b[38;5;34m100\u001b[0m, \u001b[38;5;34m100\u001b[0m, \u001b[38;5;34m64\u001b[0m)   │             \u001b[38;5;34m0\u001b[0m │\n",
       "├─────────────────────────────────┼────────────────────────┼───────────────┤\n",
       "│ conv2d_1 (\u001b[38;5;33mConv2D\u001b[0m)               │ (\u001b[38;5;45mNone\u001b[0m, \u001b[38;5;34m100\u001b[0m, \u001b[38;5;34m100\u001b[0m, \u001b[38;5;34m128\u001b[0m)  │        \u001b[38;5;34m73,856\u001b[0m │\n",
       "├─────────────────────────────────┼────────────────────────┼───────────────┤\n",
       "│ max_pooling2d_1 (\u001b[38;5;33mMaxPooling2D\u001b[0m)  │ (\u001b[38;5;45mNone\u001b[0m, \u001b[38;5;34m50\u001b[0m, \u001b[38;5;34m50\u001b[0m, \u001b[38;5;34m128\u001b[0m)    │             \u001b[38;5;34m0\u001b[0m │\n",
       "├─────────────────────────────────┼────────────────────────┼───────────────┤\n",
       "│ conv2d_2 (\u001b[38;5;33mConv2D\u001b[0m)               │ (\u001b[38;5;45mNone\u001b[0m, \u001b[38;5;34m50\u001b[0m, \u001b[38;5;34m50\u001b[0m, \u001b[38;5;34m256\u001b[0m)    │       \u001b[38;5;34m295,168\u001b[0m │\n",
       "├─────────────────────────────────┼────────────────────────┼───────────────┤\n",
       "│ max_pooling2d_2 (\u001b[38;5;33mMaxPooling2D\u001b[0m)  │ (\u001b[38;5;45mNone\u001b[0m, \u001b[38;5;34m25\u001b[0m, \u001b[38;5;34m25\u001b[0m, \u001b[38;5;34m256\u001b[0m)    │             \u001b[38;5;34m0\u001b[0m │\n",
       "├─────────────────────────────────┼────────────────────────┼───────────────┤\n",
       "│ conv2d_3 (\u001b[38;5;33mConv2D\u001b[0m)               │ (\u001b[38;5;45mNone\u001b[0m, \u001b[38;5;34m25\u001b[0m, \u001b[38;5;34m25\u001b[0m, \u001b[38;5;34m512\u001b[0m)    │     \u001b[38;5;34m1,180,160\u001b[0m │\n",
       "├─────────────────────────────────┼────────────────────────┼───────────────┤\n",
       "│ max_pooling2d_3 (\u001b[38;5;33mMaxPooling2D\u001b[0m)  │ (\u001b[38;5;45mNone\u001b[0m, \u001b[38;5;34m12\u001b[0m, \u001b[38;5;34m12\u001b[0m, \u001b[38;5;34m512\u001b[0m)    │             \u001b[38;5;34m0\u001b[0m │\n",
       "├─────────────────────────────────┼────────────────────────┼───────────────┤\n",
       "│ conv2d_4 (\u001b[38;5;33mConv2D\u001b[0m)               │ (\u001b[38;5;45mNone\u001b[0m, \u001b[38;5;34m12\u001b[0m, \u001b[38;5;34m12\u001b[0m, \u001b[38;5;34m512\u001b[0m)    │     \u001b[38;5;34m2,359,808\u001b[0m │\n",
       "├─────────────────────────────────┼────────────────────────┼───────────────┤\n",
       "│ max_pooling2d_4 (\u001b[38;5;33mMaxPooling2D\u001b[0m)  │ (\u001b[38;5;45mNone\u001b[0m, \u001b[38;5;34m6\u001b[0m, \u001b[38;5;34m6\u001b[0m, \u001b[38;5;34m512\u001b[0m)      │             \u001b[38;5;34m0\u001b[0m │\n",
       "├─────────────────────────────────┼────────────────────────┼───────────────┤\n",
       "│ flatten (\u001b[38;5;33mFlatten\u001b[0m)               │ (\u001b[38;5;45mNone\u001b[0m, \u001b[38;5;34m18432\u001b[0m)          │             \u001b[38;5;34m0\u001b[0m │\n",
       "├─────────────────────────────────┼────────────────────────┼───────────────┤\n",
       "│ dropout (\u001b[38;5;33mDropout\u001b[0m)               │ (\u001b[38;5;45mNone\u001b[0m, \u001b[38;5;34m18432\u001b[0m)          │             \u001b[38;5;34m0\u001b[0m │\n",
       "├─────────────────────────────────┼────────────────────────┼───────────────┤\n",
       "│ dense (\u001b[38;5;33mDense\u001b[0m)                   │ (\u001b[38;5;45mNone\u001b[0m, \u001b[38;5;34m256\u001b[0m)            │     \u001b[38;5;34m4,718,848\u001b[0m │\n",
       "├─────────────────────────────────┼────────────────────────┼───────────────┤\n",
       "│ dense_1 (\u001b[38;5;33mDense\u001b[0m)                 │ (\u001b[38;5;45mNone\u001b[0m, \u001b[38;5;34m2\u001b[0m)              │           \u001b[38;5;34m514\u001b[0m │\n",
       "└─────────────────────────────────┴────────────────────────┴───────────────┘\n"
      ]
     },
     "metadata": {},
     "output_type": "display_data"
    },
    {
     "data": {
      "text/html": [
       "<pre style=\"white-space:pre;overflow-x:auto;line-height:normal;font-family:Menlo,'DejaVu Sans Mono',consolas,'Courier New',monospace\"><span style=\"font-weight: bold\"> Total params: </span><span style=\"color: #00af00; text-decoration-color: #00af00\">8,630,146</span> (32.92 MB)\n",
       "</pre>\n"
      ],
      "text/plain": [
       "\u001b[1m Total params: \u001b[0m\u001b[38;5;34m8,630,146\u001b[0m (32.92 MB)\n"
      ]
     },
     "metadata": {},
     "output_type": "display_data"
    },
    {
     "data": {
      "text/html": [
       "<pre style=\"white-space:pre;overflow-x:auto;line-height:normal;font-family:Menlo,'DejaVu Sans Mono',consolas,'Courier New',monospace\"><span style=\"font-weight: bold\"> Trainable params: </span><span style=\"color: #00af00; text-decoration-color: #00af00\">8,630,146</span> (32.92 MB)\n",
       "</pre>\n"
      ],
      "text/plain": [
       "\u001b[1m Trainable params: \u001b[0m\u001b[38;5;34m8,630,146\u001b[0m (32.92 MB)\n"
      ]
     },
     "metadata": {},
     "output_type": "display_data"
    },
    {
     "data": {
      "text/html": [
       "<pre style=\"white-space:pre;overflow-x:auto;line-height:normal;font-family:Menlo,'DejaVu Sans Mono',consolas,'Courier New',monospace\"><span style=\"font-weight: bold\"> Non-trainable params: </span><span style=\"color: #00af00; text-decoration-color: #00af00\">0</span> (0.00 B)\n",
       "</pre>\n"
      ],
      "text/plain": [
       "\u001b[1m Non-trainable params: \u001b[0m\u001b[38;5;34m0\u001b[0m (0.00 B)\n"
      ]
     },
     "metadata": {},
     "output_type": "display_data"
    },
    {
     "name": "stdout",
     "output_type": "stream",
     "text": [
      "Epoch 1/50\n"
     ]
    },
    {
     "name": "stderr",
     "output_type": "stream",
     "text": [
      "2024-05-26 16:40:46.574915: W external/local_tsl/tsl/framework/cpu_allocator_impl.cc:83] Allocation of 375360000 exceeds 10% of free system memory.\n",
      "2024-05-26 16:40:48.340448: W external/local_tsl/tsl/framework/cpu_allocator_impl.cc:83] Allocation of 655360000 exceeds 10% of free system memory.\n",
      "2024-05-26 16:40:48.709020: W external/local_tsl/tsl/framework/cpu_allocator_impl.cc:83] Allocation of 327680000 exceeds 10% of free system memory.\n",
      "2024-05-26 16:40:51.439113: W external/local_tsl/tsl/framework/cpu_allocator_impl.cc:83] Allocation of 327680000 exceeds 10% of free system memory.\n",
      "2024-05-26 16:40:52.448517: W external/local_tsl/tsl/framework/cpu_allocator_impl.cc:83] Allocation of 327680000 exceeds 10% of free system memory.\n"
     ]
    },
    {
     "name": "stdout",
     "output_type": "stream",
     "text": [
      "\u001b[1m13/13\u001b[0m \u001b[32m━━━━━━━━━━━━━━━━━━━━\u001b[0m\u001b[37m\u001b[0m \u001b[1m70s\u001b[0m 5s/step - accuracy: 0.4871 - loss: 684.3795 - val_accuracy: 0.4540 - val_loss: 0.7174 - learning_rate: 0.0100\n",
      "Epoch 2/50\n",
      "\u001b[1m13/13\u001b[0m \u001b[32m━━━━━━━━━━━━━━━━━━━━\u001b[0m\u001b[37m\u001b[0m \u001b[1m70s\u001b[0m 5s/step - accuracy: 0.5451 - loss: 0.6980 - val_accuracy: 0.5460 - val_loss: 0.6916 - learning_rate: 0.0100\n",
      "Epoch 3/50\n",
      "\u001b[1m13/13\u001b[0m \u001b[32m━━━━━━━━━━━━━━━━━━━━\u001b[0m\u001b[37m\u001b[0m \u001b[1m71s\u001b[0m 5s/step - accuracy: 0.5452 - loss: 0.6868 - val_accuracy: 0.4540 - val_loss: 0.6389 - learning_rate: 0.0100\n",
      "Epoch 4/50\n",
      "\u001b[1m13/13\u001b[0m \u001b[32m━━━━━━━━━━━━━━━━━━━━\u001b[0m\u001b[37m\u001b[0m \u001b[1m71s\u001b[0m 6s/step - accuracy: 0.5503 - loss: 0.8724 - val_accuracy: 0.7478 - val_loss: 0.6503 - learning_rate: 0.0100\n",
      "Epoch 5/50\n",
      "\u001b[1m13/13\u001b[0m \u001b[32m━━━━━━━━━━━━━━━━━━━━\u001b[0m\u001b[37m\u001b[0m \u001b[1m73s\u001b[0m 6s/step - accuracy: 0.6665 - loss: 0.6274 - val_accuracy: 0.8843 - val_loss: 0.3842 - learning_rate: 0.0100\n",
      "Epoch 6/50\n",
      "\u001b[1m13/13\u001b[0m \u001b[32m━━━━━━━━━━━━━━━━━━━━\u001b[0m\u001b[37m\u001b[0m \u001b[1m73s\u001b[0m 6s/step - accuracy: 0.7846 - loss: 0.4566 - val_accuracy: 0.9407 - val_loss: 0.2073 - learning_rate: 0.0100\n",
      "Epoch 7/50\n",
      "\u001b[1m13/13\u001b[0m \u001b[32m━━━━━━━━━━━━━━━━━━━━\u001b[0m\u001b[37m\u001b[0m \u001b[1m73s\u001b[0m 6s/step - accuracy: 0.9017 - loss: 0.2766 - val_accuracy: 0.9466 - val_loss: 0.1833 - learning_rate: 0.0100\n",
      "Epoch 8/50\n",
      "\u001b[1m13/13\u001b[0m \u001b[32m━━━━━━━━━━━━━━━━━━━━\u001b[0m\u001b[37m\u001b[0m \u001b[1m72s\u001b[0m 6s/step - accuracy: 0.9156 - loss: 0.2326 - val_accuracy: 0.9674 - val_loss: 0.1278 - learning_rate: 0.0100\n",
      "Epoch 9/50\n",
      "\u001b[1m13/13\u001b[0m \u001b[32m━━━━━━━━━━━━━━━━━━━━\u001b[0m\u001b[37m\u001b[0m \u001b[1m70s\u001b[0m 5s/step - accuracy: 0.9051 - loss: 0.2398 - val_accuracy: 0.9674 - val_loss: 0.1138 - learning_rate: 0.0100\n",
      "Epoch 10/50\n",
      "\u001b[1m13/13\u001b[0m \u001b[32m━━━━━━━━━━━━━━━━━━━━\u001b[0m\u001b[37m\u001b[0m \u001b[1m71s\u001b[0m 5s/step - accuracy: 0.9413 - loss: 0.2030 - val_accuracy: 0.9585 - val_loss: 0.1209 - learning_rate: 0.0100\n",
      "Epoch 11/50\n",
      "\u001b[1m13/13\u001b[0m \u001b[32m━━━━━━━━━━━━━━━━━━━━\u001b[0m\u001b[37m\u001b[0m \u001b[1m70s\u001b[0m 5s/step - accuracy: 0.9308 - loss: 0.2108 - val_accuracy: 0.9733 - val_loss: 0.0975 - learning_rate: 0.0100\n",
      "Epoch 12/50\n",
      "\u001b[1m13/13\u001b[0m \u001b[32m━━━━━━━━━━━━━━━━━━━━\u001b[0m\u001b[37m\u001b[0m \u001b[1m71s\u001b[0m 5s/step - accuracy: 0.9508 - loss: 0.1525 - val_accuracy: 0.9585 - val_loss: 0.1128 - learning_rate: 0.0100\n",
      "Epoch 13/50\n",
      "\u001b[1m13/13\u001b[0m \u001b[32m━━━━━━━━━━━━━━━━━━━━\u001b[0m\u001b[37m\u001b[0m \u001b[1m68s\u001b[0m 5s/step - accuracy: 0.9327 - loss: 0.1813 - val_accuracy: 0.9674 - val_loss: 0.1052 - learning_rate: 0.0100\n",
      "Epoch 14/50\n",
      "\u001b[1m13/13\u001b[0m \u001b[32m━━━━━━━━━━━━━━━━━━━━\u001b[0m\u001b[37m\u001b[0m \u001b[1m68s\u001b[0m 5s/step - accuracy: 0.9639 - loss: 0.1345 - val_accuracy: 0.9703 - val_loss: 0.0936 - learning_rate: 0.0100\n",
      "Epoch 15/50\n",
      "\u001b[1m13/13\u001b[0m \u001b[32m━━━━━━━━━━━━━━━━━━━━\u001b[0m\u001b[37m\u001b[0m \u001b[1m67s\u001b[0m 5s/step - accuracy: 0.9542 - loss: 0.1175 - val_accuracy: 0.9555 - val_loss: 0.1257 - learning_rate: 0.0100\n",
      "Epoch 16/50\n",
      "\u001b[1m13/13\u001b[0m \u001b[32m━━━━━━━━━━━━━━━━━━━━\u001b[0m\u001b[37m\u001b[0m \u001b[1m67s\u001b[0m 5s/step - accuracy: 0.9619 - loss: 0.1200 - val_accuracy: 0.9822 - val_loss: 0.0953 - learning_rate: 0.0100\n",
      "Epoch 17/50\n",
      "\u001b[1m13/13\u001b[0m \u001b[32m━━━━━━━━━━━━━━━━━━━━\u001b[0m\u001b[37m\u001b[0m \u001b[1m67s\u001b[0m 5s/step - accuracy: 0.9476 - loss: 0.1717 - val_accuracy: 0.9763 - val_loss: 0.0871 - learning_rate: 0.0100\n",
      "Epoch 18/50\n",
      "\u001b[1m13/13\u001b[0m \u001b[32m━━━━━━━━━━━━━━━━━━━━\u001b[0m\u001b[37m\u001b[0m \u001b[1m68s\u001b[0m 5s/step - accuracy: 0.9502 - loss: 0.1426 - val_accuracy: 0.9407 - val_loss: 0.1887 - learning_rate: 0.0100\n",
      "Epoch 19/50\n",
      "\u001b[1m13/13\u001b[0m \u001b[32m━━━━━━━━━━━━━━━━━━━━\u001b[0m\u001b[37m\u001b[0m \u001b[1m74s\u001b[0m 6s/step - accuracy: 0.9482 - loss: 0.1781 - val_accuracy: 0.9674 - val_loss: 0.0967 - learning_rate: 0.0100\n",
      "Epoch 20/50\n",
      "\u001b[1m13/13\u001b[0m \u001b[32m━━━━━━━━━━━━━━━━━━━━\u001b[0m\u001b[37m\u001b[0m \u001b[1m70s\u001b[0m 5s/step - accuracy: 0.9449 - loss: 0.1670 - val_accuracy: 0.9614 - val_loss: 0.1278 - learning_rate: 0.0100\n",
      "Epoch 21/50\n",
      "\u001b[1m13/13\u001b[0m \u001b[32m━━━━━━━━━━━━━━━━━━━━\u001b[0m\u001b[37m\u001b[0m \u001b[1m69s\u001b[0m 5s/step - accuracy: 0.9638 - loss: 0.1164 - val_accuracy: 0.9674 - val_loss: 0.1063 - learning_rate: 0.0100\n",
      "Epoch 22/50\n",
      "\u001b[1m13/13\u001b[0m \u001b[32m━━━━━━━━━━━━━━━━━━━━\u001b[0m\u001b[37m\u001b[0m \u001b[1m71s\u001b[0m 5s/step - accuracy: 0.9631 - loss: 0.0948 - val_accuracy: 0.9466 - val_loss: 0.1830 - learning_rate: 0.0100\n",
      "Epoch 23/50\n",
      "\u001b[1m13/13\u001b[0m \u001b[32m━━━━━━━━━━━━━━━━━━━━\u001b[0m\u001b[37m\u001b[0m \u001b[1m73s\u001b[0m 6s/step - accuracy: 0.9515 - loss: 0.1534 - val_accuracy: 0.9703 - val_loss: 0.0951 - learning_rate: 0.0020\n",
      "Epoch 24/50\n",
      "\u001b[1m13/13\u001b[0m \u001b[32m━━━━━━━━━━━━━━━━━━━━\u001b[0m\u001b[37m\u001b[0m \u001b[1m74s\u001b[0m 6s/step - accuracy: 0.9604 - loss: 0.1203 - val_accuracy: 0.9674 - val_loss: 0.0989 - learning_rate: 0.0020\n",
      "Epoch 25/50\n",
      "\u001b[1m13/13\u001b[0m \u001b[32m━━━━━━━━━━━━━━━━━━━━\u001b[0m\u001b[37m\u001b[0m \u001b[1m71s\u001b[0m 6s/step - accuracy: 0.9527 - loss: 0.1350 - val_accuracy: 0.9703 - val_loss: 0.0959 - learning_rate: 0.0020\n",
      "Epoch 26/50\n",
      "\u001b[1m13/13\u001b[0m \u001b[32m━━━━━━━━━━━━━━━━━━━━\u001b[0m\u001b[37m\u001b[0m \u001b[1m73s\u001b[0m 6s/step - accuracy: 0.9629 - loss: 0.1231 - val_accuracy: 0.9703 - val_loss: 0.1043 - learning_rate: 0.0020\n",
      "Epoch 27/50\n",
      "\u001b[1m13/13\u001b[0m \u001b[32m━━━━━━━━━━━━━━━━━━━━\u001b[0m\u001b[37m\u001b[0m \u001b[1m70s\u001b[0m 5s/step - accuracy: 0.9671 - loss: 0.1007 - val_accuracy: 0.9733 - val_loss: 0.0921 - learning_rate: 0.0020\n"
     ]
    }
   ],
   "source": [
    "import tensorflow as tf\n",
    "from keras.layers import Dropout\n",
    "from sklearn.model_selection import train_test_split\n",
    "from sklearn.utils.class_weight import compute_class_weight\n",
    "from tensorflow.keras.utils import to_categorical\n",
    "from tensorflow.keras.models import Sequential\n",
    "from tensorflow.keras.layers import Conv2D, MaxPooling2D, Flatten, Dense, Dropout, BatchNormalization\n",
    "from tensorflow.keras.optimizers import Adam\n",
    "from tensorflow.keras.callbacks import EarlyStopping, ReduceLROnPlateau\n",
    "modelo = Sequential([\n",
    "   Conv2D(64, (3,3), activation='relu', padding=\"same\", input_shape=(200, 200, 3)),\n",
    "    MaxPooling2D(pool_size=(2,2)),\n",
    "    Conv2D(128, (3,3), activation='relu', padding=\"same\"),\n",
    "    MaxPooling2D(pool_size=(2,2)),\n",
    "    Conv2D(256, (3,3), activation='relu', padding=\"same\"),\n",
    "    MaxPooling2D(pool_size=(2,2)),\n",
    "    Conv2D(512, (3,3), activation='relu', padding=\"same\"),  # Capa adicional\n",
    "    MaxPooling2D(pool_size=(2,2)),\n",
    "    Conv2D(512, (3,3), activation='relu', padding=\"same\"),  # Capa adicional\n",
    "    MaxPooling2D(pool_size=(2,2)),\n",
    "    Flatten(),\n",
    "    Dropout(0.5),  # Capa de abandono para regularización\n",
    "    Dense(256, activation='relu'),  # Aumentar el número de nodos\n",
    "    Dense(2, activation='softmax'),\n",
    "        ])\n",
    "\n",
    "\n",
    "modelo.summary()\n",
    "\n",
    "learning_rate = 0.01\n",
    "optimizer = Adam(learning_rate=learning_rate)\n",
    "modelo.compile(optimizer=optimizer , # Ajustar la tasa de aprendizaje\n",
    "    loss='categorical_crossentropy',  \n",
    "    metrics=['accuracy'])\n",
    "\n",
    "early_stopping = EarlyStopping(monitor='val_loss', patience=10, restore_best_weights=True)\n",
    "reduce_lr = ReduceLROnPlateau(monitor='val_loss', factor=0.2, patience=5, min_lr=0.001)\n",
    "\n",
    "\n",
    "\n",
    "\n",
    "class_weights = {0: 1.0, 1: 10.0} \n",
    "historial = modelo.fit(\n",
    "      generator\n",
    "    epochs=50,  # Aumentar el número de épocas,\n",
    "    batch_size=64,\n",
    "      validation_generator,callbacks=[early_stopping, reduce_lr]\n",
    "\n",
    ")\n",
    "\n"
   ]
  },
  {
   "cell_type": "code",
   "execution_count": 7,
   "metadata": {},
   "outputs": [
    {
     "data": {
      "image/png": "[encoded data removed]",
      "text/plain": [
       "<Figure size 640x480 with 1 Axes>"
      ]
     },
     "metadata": {},
     "output_type": "display_data"
    },
    {
     "data": {
      "image/png": "[encoded data removed]",
      "text/plain": [
       "<Figure size 640x480 with 1 Axes>"
      ]
     },
     "metadata": {},
     "output_type": "display_data"
    }
   ],
   "source": [
    "\n",
    "# Gráficos de precisión y pérdida\n",
    "plt.plot(historial.history['accuracy'])\n",
    "plt.plot(historial.history['val_accuracy'])  # Precisión de validación\n",
    "plt.title('Precisión del modelo')\n",
    "plt.ylabel('Precisión')\n",
    "plt.xlabel('Época')\n",
    "plt.legend(['Entrenamiento', 'Validación'], loc='upper left')\n",
    "plt.show()\n",
    "\n",
    "plt.plot(historial.history['loss'])\n",
    "plt.plot(historial.history['val_loss'])  # Pérdida de validación\n",
    "plt.title('Pérdida del modelo')\n",
    "plt.ylabel('Pérdida')\n",
    "plt.xlabel('Época')# Añade la capa Dense según el tamaño de salida de Flatten\n",
    "\n",
    "\n",
    "plt.legend(['Entrenamiento', 'Validación'], loc='upper left')\n",
    "plt.show()"
   ]
  },
  {
   "cell_type": "code",
   "execution_count": null,
   "metadata": {},
   "outputs": [],
   "source": [
    "plot_model(modelo, to_file='/data/maestria/maestriasinpro/proyectodegrado/pujc-advocato-filter-project-mngr/modelo1_cnn.png', show_shapes=True, show_layer_names=True)"
   ]
  },
  {
   "cell_type": "code",
   "execution_count": 11,
   "metadata": {},
   "outputs": [
    {
     "name": "stdout",
     "output_type": "stream",
     "text": [
      "\u001b[1m11/11\u001b[0m \u001b[32m━━━━━━━━━━━━━━━━━━━━\u001b[0m\u001b[37m\u001b[0m \u001b[1m6s\u001b[0m 561ms/step\n",
      "Confusion Matrix\n"
     ]
    },
    {
     "data": {
      "image/png": "[encoded data removed]",
      "text/plain": [
       "<Figure size 1000x700 with 2 Axes>"
      ]
     },
     "metadata": {},
     "output_type": "display_data"
    },
    {
     "name": "stdout",
     "output_type": "stream",
     "text": [
      "Classification Report\n",
      "{'0': {'precision': 0.9631578947368421, 'recall': 0.9945652173913043, 'f1-score': 0.9786096256684492, 'support': 184.0}, '1': {'precision': 0.9931972789115646, 'recall': 0.954248366013072, 'f1-score': 0.9733333333333334, 'support': 153.0}, 'accuracy': 0.9762611275964391, 'macro avg': {'precision': 0.9781775868242033, 'recall': 0.9744067917021881, 'f1-score': 0.9759714795008914, 'support': 337.0}, 'weighted avg': {'precision': 0.9767959534274431, 'recall': 0.9762611275964391, 'f1-score': 0.976214157634999, 'support': 337.0}}\n"
     ]
    },
    {
     "data": {
      "text/html": [
       "<style type=\"text/css\">\n",
       "#T_426d9_row0_col0, #T_426d9_row1_col1, #T_426d9_row1_col2, #T_426d9_row2_col3 {\n",
       "  background-color: #f0f0f3;\n",
       "  color: #000000;\n",
       "}\n",
       "#T_426d9_row0_col1, #T_426d9_row0_col2, #T_426d9_row1_col0, #T_426d9_row3_col3, #T_426d9_row4_col3 {\n",
       "  background-color: #0000ff;\n",
       "  color: #f1f1f1;\n",
       "}\n",
       "#T_426d9_row0_col3, #T_426d9_row2_col1, #T_426d9_row4_col1, #T_426d9_row4_col2 {\n",
       "  background-color: #6d6df9;\n",
       "  color: #f1f1f1;\n",
       "}\n",
       "#T_426d9_row1_col3 {\n",
       "  background-color: #8484f8;\n",
       "  color: #f1f1f1;\n",
       "}\n",
       "#T_426d9_row2_col0 {\n",
       "  background-color: #8888f8;\n",
       "  color: #f1f1f1;\n",
       "}\n",
       "#T_426d9_row2_col2 {\n",
       "  background-color: #6b6bfa;\n",
       "  color: #f1f1f1;\n",
       "}\n",
       "#T_426d9_row3_col0 {\n",
       "  background-color: #7979f9;\n",
       "  color: #f1f1f1;\n",
       "}\n",
       "#T_426d9_row3_col1, #T_426d9_row3_col2 {\n",
       "  background-color: #7878f9;\n",
       "  color: #f1f1f1;\n",
       "}\n",
       "#T_426d9_row4_col0 {\n",
       "  background-color: #8383f8;\n",
       "  color: #f1f1f1;\n",
       "}\n",
       "</style>\n",
       "<table id=\"T_426d9\">\n",
       "  <thead>\n",
       "    <tr>\n",
       "      <th class=\"blank level0\" >&nbsp;</th>\n",
       "      <th id=\"T_426d9_level0_col0\" class=\"col_heading level0 col0\" >precision</th>\n",
       "      <th id=\"T_426d9_level0_col1\" class=\"col_heading level0 col1\" >recall</th>\n",
       "      <th id=\"T_426d9_level0_col2\" class=\"col_heading level0 col2\" >f1-score</th>\n",
       "      <th id=\"T_426d9_level0_col3\" class=\"col_heading level0 col3\" >support</th>\n",
       "    </tr>\n",
       "  </thead>\n",
       "  <tbody>\n",
       "    <tr>\n",
       "      <th id=\"T_426d9_level0_row0\" class=\"row_heading level0 row0\" >0</th>\n",
       "      <td id=\"T_426d9_row0_col0\" class=\"data row0 col0\" >0.963158</td>\n",
       "      <td id=\"T_426d9_row0_col1\" class=\"data row0 col1\" >0.994565</td>\n",
       "      <td id=\"T_426d9_row0_col2\" class=\"data row0 col2\" >0.978610</td>\n",
       "      <td id=\"T_426d9_row0_col3\" class=\"data row0 col3\" >184.000000</td>\n",
       "    </tr>\n",
       "    <tr>\n",
       "      <th id=\"T_426d9_level0_row1\" class=\"row_heading level0 row1\" >1</th>\n",
       "      <td id=\"T_426d9_row1_col0\" class=\"data row1 col0\" >0.993197</td>\n",
       "      <td id=\"T_426d9_row1_col1\" class=\"data row1 col1\" >0.954248</td>\n",
       "      <td id=\"T_426d9_row1_col2\" class=\"data row1 col2\" >0.973333</td>\n",
       "      <td id=\"T_426d9_row1_col3\" class=\"data row1 col3\" >153.000000</td>\n",
       "    </tr>\n",
       "    <tr>\n",
       "      <th id=\"T_426d9_level0_row2\" class=\"row_heading level0 row2\" >accuracy</th>\n",
       "      <td id=\"T_426d9_row2_col0\" class=\"data row2 col0\" >0.976261</td>\n",
       "      <td id=\"T_426d9_row2_col1\" class=\"data row2 col1\" >0.976261</td>\n",
       "      <td id=\"T_426d9_row2_col2\" class=\"data row2 col2\" >0.976261</td>\n",
       "      <td id=\"T_426d9_row2_col3\" class=\"data row2 col3\" >0.976261</td>\n",
       "    </tr>\n",
       "    <tr>\n",
       "      <th id=\"T_426d9_level0_row3\" class=\"row_heading level0 row3\" >macro avg</th>\n",
       "      <td id=\"T_426d9_row3_col0\" class=\"data row3 col0\" >0.978178</td>\n",
       "      <td id=\"T_426d9_row3_col1\" class=\"data row3 col1\" >0.974407</td>\n",
       "      <td id=\"T_426d9_row3_col2\" class=\"data row3 col2\" >0.975971</td>\n",
       "      <td id=\"T_426d9_row3_col3\" class=\"data row3 col3\" >337.000000</td>\n",
       "    </tr>\n",
       "    <tr>\n",
       "      <th id=\"T_426d9_level0_row4\" class=\"row_heading level0 row4\" >weighted avg</th>\n",
       "      <td id=\"T_426d9_row4_col0\" class=\"data row4 col0\" >0.976796</td>\n",
       "      <td id=\"T_426d9_row4_col1\" class=\"data row4 col1\" >0.976261</td>\n",
       "      <td id=\"T_426d9_row4_col2\" class=\"data row4 col2\" >0.976214</td>\n",
       "      <td id=\"T_426d9_row4_col3\" class=\"data row4 col3\" >337.000000</td>\n",
       "    </tr>\n",
       "  </tbody>\n",
       "</table>\n"
      ],
      "text/plain": [
       "<pandas.io.formats.style.Styler at 0x764d54d60da0>"
      ]
     },
     "metadata": {},
     "output_type": "display_data"
    }
   ],
   "source": [
    "from sklearn.metrics import classification_report, confusion_matrix, roc_curve, auc\n",
    "import seaborn as sns\n",
    "# Evaluar el modelo en el conjunto de prueba o validación\n",
    "# Asumiendo que tienes `validation_generator` como tu conjunto de validación/test\n",
    "y_pred = modelo.predict(validation_generator)\n",
    "y_test = validation_generator.classes  # Etiquetas verdaderas\n",
    "print(y_pred)\n",
    "y_pred = np.argmax(y_pred, axis=1)  # esto cambia por que es una sola neurona hardlim   \n",
    "print(y_pred)\n",
    "print(y_test)\n",
    "# Matriz de confusiónvalidation_generator\n",
    "print(\"Confusion Matrix\")\n",
    "# Matriz de confusión\n",
    "cm = confusion_matrix(y_test, y_pred)\n",
    "print(cm)\n",
    "# Obtener nombres de clases desde el generador\n",
    "class_names = list(validation_generator.class_indices.keys())\n",
    "print(class_names)\n",
    "# Visualización de la matriz de confusión\n",
    "plt.figure(figsize=(10,7))\n",
    "sns.heatmap(cm, annot=True, fmt=\"d\", cmap='Blues', xticklabels=class_names, yticklabels=class_names)\n",
    "plt.xlabel('Predicción')\n",
    "plt.ylabel('Verdadero')\n",
    "plt.title('Confusion Matrix')\n",
    "plt.show()\n",
    "\n",
    "\n",
    "# Informe de clasificación\n",
    "\n",
    "report = classification_report(y_test, y_pred, output_dict=True)\n",
    "print(\"Classification Report\")\n",
    "print(report)\n",
    "report_df = pd.DataFrame(report).transpose()\n",
    "report_df.to_csv('classification_report_cnn.csv', index=True)\n",
    "\n",
    "cm = sns.light_palette(\"blue\", as_cmap=True)\n",
    "styled_df = report_df.style.background_gradient(cmap=cm)\n",
    "display(styled_df)\n"
   ]
  },
  {
   "cell_type": "code",
   "execution_count": null,
   "metadata": {},
   "outputs": [],
   "source": [
    "# Si y_pred es unidimensional, no necesitas indexarlo con [:, 1]\n",
    "if y_pred.ndim == 1:\n",
    "    fpr, tpr, thresholds = roc_curve(y_test, y_pred)\n",
    "    roc_auc = auc(fpr, tpr)\n",
    "\n",
    "    # Visualización de la curva ROC\n",
    "    plt.figure()\n",
    "    plt.plot(fpr, tpr, color='darkorange', label=f'ROC curve (area = {roc_auc:.2f})')\n",
    "    plt.plot([0, 1], [0, 1], color='navy', linestyle='--')\n",
    "    plt.xlim([0.0, 1.0])\n",
    "    plt.ylim([0.0, 1.05])\n",
    "    plt.xlabel('Tasa Falsos Positivos')\n",
    "    plt.ylabel('Tasa de falsos Negativos')\n",
    "    plt.title('Curva ROC ')\n",
    "    plt.legend(loc=\"lower right\")\n",
    "    plt.show()"
   ]
  },
  {
   "cell_type": "code",
   "execution_count": null,
   "metadata": {},
   "outputs": [],
   "source": [
    "from keras.models import Model\n",
    "import matplotlib.pyplot as plt\n",
    "\n",
    "# Crear un modelo que devuelva las activaciones de la primera capa convolucional\n",
    "activation_model = Model(inputs=modelo.input, outputs=modelo.layers[0].output)\n",
    "\n",
    "# Obtener las activaciones de la primera capa convolucional para la primera imagen en el conjunto de entrenamiento\n",
    "activations = activation_model.predict(validation_generator[0][0][0].reshape(1, 500, 500, 3))\n",
    "\n",
    "# Visualizar las activaciones de los primeros 6 filtros\n",
    "fig, axes = plt.subplots(nrows=2, ncols=3, figsize=(15, 10))\n",
    "for i, ax in enumerate(axes.flat):\n",
    "    ax.imshow(activations[0, :, :, i], cmap='viridis')\n",
    "    ax.axis('off')\n",
    "plt.show()"
   ]
  },
  {
   "cell_type": "code",
   "execution_count": null,
   "metadata": {},
   "outputs": [],
   "source": [
    "from sklearn.model_selection import KFold\n",
    "import numpy as np\n",
    "\n",
    "# Suponiendo que tienes todas tus imágenes y etiquetas cargadas en X e Y\n",
    "# X, Y = load_data()\n",
    "\n",
    "n_splits = 5\n",
    "kf = KFold(n_splits=n_splits, shuffle=True)\n",
    "\n",
    "fold_no = 1\n",
    "for train_index, val_index in kf.split(X):\n",
    "    X_train, X_val = X[train_index], X[val_index]\n",
    "    Y_train, Y_val = Y[train_index], Y[val_index]\n",
    "\n",
    "    # Crear el modelo de CNN aquí\n",
    "    modelo = Sequential([\n",
    "        Conv2D(32, (3, 3), activation='relu', input_shape=(100, 130, 3)),\n",
    "        MaxPooling2D((2, 2)),\n",
    "        Conv2D(64, (3, 3), activation='relu'),\n",
    "        MaxPooling2D((2, 2)),\n",
    "        Flatten(),\n",
    "        Dense(128, activation='relu'),\n",
    "        Dense(2, activation='softmax')\n",
    "    ])\n",
    "\n",
    "    modelo.compile(optimizer='adam',\n",
    "                   loss='binary_crossentropy',\n",
    "                   metrics=['accuracy'])\n",
    "\n",
    "    # Entrenar el modelo\n",
    "    modelo.fit(X_train, Y_train, validation_data=(X_val, Y_val), epochs=10, batch_size=32)\n",
    "\n",
    "    # Evaluar el modelo\n",
    "    scores = modelo.evaluate(X_val, Y_val, verbose=0)\n",
    "    print(f'Score for fold {fold_no}: {modelo.metrics_names[1]} of {scores[1]*100}%')\n",
    "    \n",
    "    fold_no += 1"
   ]
  },
  {
   "cell_type": "code",
   "execution_count": null,
   "metadata": {},
   "outputs": [],
   "source": [
    "# Guardar el modelo en un archivo\n",
    "modelo.save('/home/maucasco/Documents/maestria/proyecto_grado/pujc-advocato-filter-project-mngr/modelo/modelo_cnn.h5')\n"
   ]
  },
  {
   "cell_type": "code",
   "execution_count": null,
   "metadata": {},
   "outputs": [],
   "source": [
    "# Cargar el modelo desde un archivo\n",
    "from keras.models import load_model\n",
    "modelo = load_model('/home/maucasco/Documents/maestria/proyecto_grado/pujc-advocato-filter-project-mngr/modelo/modelo_cnn.h5')"
   ]
  },
  {
   "cell_type": "code",
   "execution_count": null,
   "metadata": {},
   "outputs": [],
   "source": [
    "\n",
    "from keras.preprocessing import image\n",
    "import numpy as np\n",
    "# Load and preprocess the image\n",
    "img_path = '/home/maucasco/Downloads/images.jpeg'\n",
    "imagen = cv2.imread(img_path)[100:, :]\n",
    "imagen_sin_texto,aguacate_solo, redimenciada = ProcessImages().procesar(imagen,500,500)\n",
    "img_array = image.img_to_array(redimenciada)\n",
    "\n",
    "\n",
    "plt.imshow(redimenciada, cmap='gray')\n",
    "plt.show()\n",
    "img_array = np.expand_dims(img_array, axis=0)\n",
    "img_array /= 255.0\n",
    "\n",
    "# Make predictions\n",
    "predictions = modelo.predict(img_array)\n",
    "print(predictions)"
   ]
  }
 ],
 "metadata": {
  "kernelspec": {
   "display_name": "Python 3",
   "language": "python",
   "name": "python3"
  },
  "language_info": {
   "codemirror_mode": {
    "name": "ipython",
    "version": 3
   },
   "file_extension": ".py",
   "mimetype": "text/x-python",
   "name": "python",
   "nbconvert_exporter": "python",
   "pygments_lexer": "ipython3",
   "version": "3.12.3"
  }
 },
 "nbformat": 4,
 "nbformat_minor": 2
}
