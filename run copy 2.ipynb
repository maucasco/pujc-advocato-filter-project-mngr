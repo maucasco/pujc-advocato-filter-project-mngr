{
 "cells": [
  {
   "cell_type": "code",
   "execution_count": 5,
   "metadata": {},
   "outputs": [],
   "source": [
    "import os\n",
    "import cv2\n",
    "import numpy as np\n",
    "import matplotlib.pyplot as plt\n",
    "import pandas as pd\n",
    "import seaborn as sns\n",
    "from edu.javerianacali.create_dataset import CreateDataSet\n",
    "from edu.javerianacali.model.ccn_model import ConvulationalNeuralNetwork\n",
    "from edu.javerianacali.model.logistic_regression_model import LogisticRegressionModel\n",
    "from edu.javerianacali.process_images import ProcessImages\n",
    "from edu.javerianacali.data_aumentation import DataAugmentation\n",
    "from edu.javerianacali.model.svm_model import SupportVectorMachineModel\n",
    "directorio = \"/home/maucasco/Documents/maestria/proyecto_grado/pujc-advocato-filter-project-mngr/assets\"\n"
   ]
  },
  {
   "cell_type": "markdown",
   "metadata": {},
   "source": [
    "# AUMENTO DE DATOS"
   ]
  },
  {
   "cell_type": "code",
   "execution_count": null,
   "metadata": {},
   "outputs": [],
   "source": [
    "\n",
    "from edu.javerianacali.data_aumentation import DataAugmentation\n",
    "\n",
    "DataAugmentation().augment_images(directorio+'/poquitas'\n",
    "\n",
    ")"
   ]
  },
  {
   "cell_type": "markdown",
   "metadata": {},
   "source": [
    "# PROCESAR INAGENES PARA MODELOS DE APRENDIZAJE SUPERVISADO"
   ]
  },
  {
   "cell_type": "code",
   "execution_count": null,
   "metadata": {},
   "outputs": [],
   "source": [
    "path=directorio+'/poquitas'\n",
    "archivos = os.listdir(path)\n",
    "for archivo in archivos:\n",
    "    if archivo.endswith(\".JPG\") or archivo.endswith(\".jpg\"):\n",
    "        ruta_imagen = os.path.join(path, archivo)\n",
    "        titulos = [\"Ori\", \"SinTex\",\"Sinsomb\", archivo]\n",
    "        imagenes = ProcessImages().procesar_imagen(ruta_imagen,archivo,directorio,96)\n",
    "        ProcessImages().mostrar_imagenes(titulos, imagenes)\n",
    "\n"
   ]
  },
  {
   "cell_type": "code",
   "execution_count": null,
   "metadata": {},
   "outputs": [],
   "source": [
    "create_dataset = CreateDataSet().create_dataset(directorio)\n",
    "LogisticRegressionModel().prepare_dataset(directorio)\n",
    "print(create_dataset[1])\n",
    "LogisticRegressionModel().train_model(create_dataset[0], create_dataset[1])\n",
    "\n"
   ]
  },
  {
   "cell_type": "code",
   "execution_count": null,
   "metadata": {},
   "outputs": [],
   "source": [
    "\n",
    "\n",
    "from edu.javerianacali.model.svm_model import SupportVectorMachineModel\n",
    "create_dataset = CreateDataSet().create_dataset(directorio)\n",
    "features, labels = create_dataset[0], create_dataset[1]\n",
    "print(features)\n",
    "SupportVectorMachineModel().train_svm_model(features, labels)\n"
   ]
  },
  {
   "cell_type": "code",
   "execution_count": null,
   "metadata": {},
   "outputs": [],
   "source": []
  },
  {
   "cell_type": "markdown",
   "metadata": {},
   "source": [
    "# ALGORITMOS NO SUPERVISADOS"
   ]
  },
  {
   "cell_type": "code",
   "execution_count": null,
   "metadata": {},
   "outputs": [],
   "source": [
    "path=directorio\n",
    "archivos = os.listdir(path)\n",
    "for archivo in archivos:\n",
    "    if archivo.endswith(\".JPG\") or archivo.endswith(\".jpg\"):\n",
    "        ruta_imagen = os.path.join(path, archivo)\n",
    "        titulos = [\"Ori\", \"SinTex\",\"Sinsomb\", archivo]\n",
    "        imagenes = ProcessImages().procesar_imagen(ruta_imagen,archivo,directorio,150,150)\n",
    "       # ProcessImages().mostrar_imagenes(titulos, imagenes)\n",
    "\n"
   ]
  },
  {
   "cell_type": "code",
   "execution_count": null,
   "metadata": {},
   "outputs": [],
   "source": [
    "\n",
    "CreateDataSet().create_dataset_cnn(directorio)"
   ]
  },
  {
   "cell_type": "code",
   "execution_count": 1,
   "metadata": {},
   "outputs": [
    {
     "name": "stderr",
     "output_type": "stream",
     "text": [
      "2024-05-16 19:45:38.243432: I external/local_tsl/tsl/cuda/cudart_stub.cc:32] Could not find cuda drivers on your machine, GPU will not be used.\n",
      "2024-05-16 19:45:38.245821: I external/local_tsl/tsl/cuda/cudart_stub.cc:32] Could not find cuda drivers on your machine, GPU will not be used.\n",
      "2024-05-16 19:45:38.277380: I tensorflow/core/platform/cpu_feature_guard.cc:210] This TensorFlow binary is optimized to use available CPU instructions in performance-critical operations.\n",
      "To enable the following instructions: AVX2 FMA, in other operations, rebuild TensorFlow with the appropriate compiler flags.\n",
      "2024-05-16 19:45:38.988925: W tensorflow/compiler/tf2tensorrt/utils/py_utils.cc:38] TF-TRT Warning: Could not find TensorRT\n"
     ]
    },
    {
     "name": "stdout",
     "output_type": "stream",
     "text": [
      "/home/maucasco/Documents/maestria/proyecto_grado/pujc-advocato-filter-project-mngr/assets/train\n",
      "Found 230 images belonging to 2 classes.\n",
      "Found 107 images belonging to 2 classes.\n"
     ]
    }
   ],
   "source": [
    "directorio = \"/home/maucasco/Documents/maestria/proyecto_grado/pujc-advocato-filter-project-mngr/assets\"\n",
    "import tensorflow as tf\n",
    "from tensorflow.keras.preprocessing.image import ImageDataGenerator\n",
    "from edu.javerianacali.create_dataset import CreateDataSet\n",
    "from tensorflow.keras.models import Sequential\n",
    "from tensorflow.keras.layers import Conv2D, MaxPooling2D, Flatten, Dense\n",
    "import matplotlib.pyplot as plt\n",
    "\n",
    "\n",
    "\n",
    "\n",
    "datagen = ImageDataGenerator(rescale=1./255,shear_range=0.15,zoom_range=0.15,horizontal_flip=True)\n",
    "print(directorio\n",
    "+'/train')\n",
    "generator = datagen.flow_from_directory(\n",
    "directorio+'/train',\n",
    "target_size=(150, 150),  \n",
    "batch_size=32,\n",
    "class_mode='binary' ) # Usa 'binary' si solo tienes dos clases\n",
    "\n",
    "\n",
    "# Generador de datos de validación\n",
    "validation_datagen = ImageDataGenerator(rescale=1./255)\n",
    "validation_generator = validation_datagen.flow_from_directory(\n",
    "    directorio+'/test',\n",
    "    target_size=(150, 150),\n",
    "    batch_size=32,\n",
    "    class_mode='binary'\n",
    ")\n"
   ]
  },
  {
   "cell_type": "code",
   "execution_count": 2,
   "metadata": {},
   "outputs": [
    {
     "name": "stderr",
     "output_type": "stream",
     "text": [
      "/home/maucasco/.local/lib/python3.10/site-packages/keras/src/layers/convolutional/base_conv.py:107: UserWarning: Do not pass an `input_shape`/`input_dim` argument to a layer. When using Sequential models, prefer using an `Input(shape)` object as the first layer in the model instead.\n",
      "  super().__init__(activity_regularizer=activity_regularizer, **kwargs)\n"
     ]
    },
    {
     "data": {
      "text/html": [
       "<pre style=\"white-space:pre;overflow-x:auto;line-height:normal;font-family:Menlo,'DejaVu Sans Mono',consolas,'Courier New',monospace\"><span style=\"font-weight: bold\">Model: \"sequential\"</span>\n",
       "</pre>\n"
      ],
      "text/plain": [
       "\u001b[1mModel: \"sequential\"\u001b[0m\n"
      ]
     },
     "metadata": {},
     "output_type": "display_data"
    },
    {
     "data": {
      "text/html": [
       "<pre style=\"white-space:pre;overflow-x:auto;line-height:normal;font-family:Menlo,'DejaVu Sans Mono',consolas,'Courier New',monospace\">┏━━━━━━━━━━━━━━━━━━━━━━━━━━━━━━━━━┳━━━━━━━━━━━━━━━━━━━━━━━━┳━━━━━━━━━━━━━━━┓\n",
       "┃<span style=\"font-weight: bold\"> Layer (type)                    </span>┃<span style=\"font-weight: bold\"> Output Shape           </span>┃<span style=\"font-weight: bold\">       Param # </span>┃\n",
       "┡━━━━━━━━━━━━━━━━━━━━━━━━━━━━━━━━━╇━━━━━━━━━━━━━━━━━━━━━━━━╇━━━━━━━━━━━━━━━┩\n",
       "│ conv2d (<span style=\"color: #0087ff; text-decoration-color: #0087ff\">Conv2D</span>)                 │ (<span style=\"color: #00d7ff; text-decoration-color: #00d7ff\">None</span>, <span style=\"color: #00af00; text-decoration-color: #00af00\">148</span>, <span style=\"color: #00af00; text-decoration-color: #00af00\">148</span>, <span style=\"color: #00af00; text-decoration-color: #00af00\">32</span>)   │           <span style=\"color: #00af00; text-decoration-color: #00af00\">896</span> │\n",
       "├─────────────────────────────────┼────────────────────────┼───────────────┤\n",
       "│ max_pooling2d (<span style=\"color: #0087ff; text-decoration-color: #0087ff\">MaxPooling2D</span>)    │ (<span style=\"color: #00d7ff; text-decoration-color: #00d7ff\">None</span>, <span style=\"color: #00af00; text-decoration-color: #00af00\">74</span>, <span style=\"color: #00af00; text-decoration-color: #00af00\">74</span>, <span style=\"color: #00af00; text-decoration-color: #00af00\">32</span>)     │             <span style=\"color: #00af00; text-decoration-color: #00af00\">0</span> │\n",
       "├─────────────────────────────────┼────────────────────────┼───────────────┤\n",
       "│ conv2d_1 (<span style=\"color: #0087ff; text-decoration-color: #0087ff\">Conv2D</span>)               │ (<span style=\"color: #00d7ff; text-decoration-color: #00d7ff\">None</span>, <span style=\"color: #00af00; text-decoration-color: #00af00\">70</span>, <span style=\"color: #00af00; text-decoration-color: #00af00\">72</span>, <span style=\"color: #00af00; text-decoration-color: #00af00\">64</span>)     │        <span style=\"color: #00af00; text-decoration-color: #00af00\">30,784</span> │\n",
       "├─────────────────────────────────┼────────────────────────┼───────────────┤\n",
       "│ max_pooling2d_1 (<span style=\"color: #0087ff; text-decoration-color: #0087ff\">MaxPooling2D</span>)  │ (<span style=\"color: #00d7ff; text-decoration-color: #00d7ff\">None</span>, <span style=\"color: #00af00; text-decoration-color: #00af00\">35</span>, <span style=\"color: #00af00; text-decoration-color: #00af00\">36</span>, <span style=\"color: #00af00; text-decoration-color: #00af00\">64</span>)     │             <span style=\"color: #00af00; text-decoration-color: #00af00\">0</span> │\n",
       "├─────────────────────────────────┼────────────────────────┼───────────────┤\n",
       "│ conv2d_2 (<span style=\"color: #0087ff; text-decoration-color: #0087ff\">Conv2D</span>)               │ (<span style=\"color: #00d7ff; text-decoration-color: #00d7ff\">None</span>, <span style=\"color: #00af00; text-decoration-color: #00af00\">33</span>, <span style=\"color: #00af00; text-decoration-color: #00af00\">34</span>, <span style=\"color: #00af00; text-decoration-color: #00af00\">128</span>)    │        <span style=\"color: #00af00; text-decoration-color: #00af00\">73,856</span> │\n",
       "├─────────────────────────────────┼────────────────────────┼───────────────┤\n",
       "│ max_pooling2d_2 (<span style=\"color: #0087ff; text-decoration-color: #0087ff\">MaxPooling2D</span>)  │ (<span style=\"color: #00d7ff; text-decoration-color: #00d7ff\">None</span>, <span style=\"color: #00af00; text-decoration-color: #00af00\">16</span>, <span style=\"color: #00af00; text-decoration-color: #00af00\">17</span>, <span style=\"color: #00af00; text-decoration-color: #00af00\">128</span>)    │             <span style=\"color: #00af00; text-decoration-color: #00af00\">0</span> │\n",
       "├─────────────────────────────────┼────────────────────────┼───────────────┤\n",
       "│ flatten (<span style=\"color: #0087ff; text-decoration-color: #0087ff\">Flatten</span>)               │ (<span style=\"color: #00d7ff; text-decoration-color: #00d7ff\">None</span>, <span style=\"color: #00af00; text-decoration-color: #00af00\">34816</span>)          │             <span style=\"color: #00af00; text-decoration-color: #00af00\">0</span> │\n",
       "├─────────────────────────────────┼────────────────────────┼───────────────┤\n",
       "│ dense (<span style=\"color: #0087ff; text-decoration-color: #0087ff\">Dense</span>)                   │ (<span style=\"color: #00d7ff; text-decoration-color: #00d7ff\">None</span>, <span style=\"color: #00af00; text-decoration-color: #00af00\">128</span>)            │     <span style=\"color: #00af00; text-decoration-color: #00af00\">4,456,576</span> │\n",
       "├─────────────────────────────────┼────────────────────────┼───────────────┤\n",
       "│ dropout (<span style=\"color: #0087ff; text-decoration-color: #0087ff\">Dropout</span>)               │ (<span style=\"color: #00d7ff; text-decoration-color: #00d7ff\">None</span>, <span style=\"color: #00af00; text-decoration-color: #00af00\">128</span>)            │             <span style=\"color: #00af00; text-decoration-color: #00af00\">0</span> │\n",
       "├─────────────────────────────────┼────────────────────────┼───────────────┤\n",
       "│ dense_1 (<span style=\"color: #0087ff; text-decoration-color: #0087ff\">Dense</span>)                 │ (<span style=\"color: #00d7ff; text-decoration-color: #00d7ff\">None</span>, <span style=\"color: #00af00; text-decoration-color: #00af00\">1</span>)              │           <span style=\"color: #00af00; text-decoration-color: #00af00\">129</span> │\n",
       "└─────────────────────────────────┴────────────────────────┴───────────────┘\n",
       "</pre>\n"
      ],
      "text/plain": [
       "┏━━━━━━━━━━━━━━━━━━━━━━━━━━━━━━━━━┳━━━━━━━━━━━━━━━━━━━━━━━━┳━━━━━━━━━━━━━━━┓\n",
       "┃\u001b[1m \u001b[0m\u001b[1mLayer (type)                   \u001b[0m\u001b[1m \u001b[0m┃\u001b[1m \u001b[0m\u001b[1mOutput Shape          \u001b[0m\u001b[1m \u001b[0m┃\u001b[1m \u001b[0m\u001b[1m      Param #\u001b[0m\u001b[1m \u001b[0m┃\n",
       "┡━━━━━━━━━━━━━━━━━━━━━━━━━━━━━━━━━╇━━━━━━━━━━━━━━━━━━━━━━━━╇━━━━━━━━━━━━━━━┩\n",
       "│ conv2d (\u001b[38;5;33mConv2D\u001b[0m)                 │ (\u001b[38;5;45mNone\u001b[0m, \u001b[38;5;34m148\u001b[0m, \u001b[38;5;34m148\u001b[0m, \u001b[38;5;34m32\u001b[0m)   │           \u001b[38;5;34m896\u001b[0m │\n",
       "├─────────────────────────────────┼────────────────────────┼───────────────┤\n",
       "│ max_pooling2d (\u001b[38;5;33mMaxPooling2D\u001b[0m)    │ (\u001b[38;5;45mNone\u001b[0m, \u001b[38;5;34m74\u001b[0m, \u001b[38;5;34m74\u001b[0m, \u001b[38;5;34m32\u001b[0m)     │             \u001b[38;5;34m0\u001b[0m │\n",
       "├─────────────────────────────────┼────────────────────────┼───────────────┤\n",
       "│ conv2d_1 (\u001b[38;5;33mConv2D\u001b[0m)               │ (\u001b[38;5;45mNone\u001b[0m, \u001b[38;5;34m70\u001b[0m, \u001b[38;5;34m72\u001b[0m, \u001b[38;5;34m64\u001b[0m)     │        \u001b[38;5;34m30,784\u001b[0m │\n",
       "├─────────────────────────────────┼────────────────────────┼───────────────┤\n",
       "│ max_pooling2d_1 (\u001b[38;5;33mMaxPooling2D\u001b[0m)  │ (\u001b[38;5;45mNone\u001b[0m, \u001b[38;5;34m35\u001b[0m, \u001b[38;5;34m36\u001b[0m, \u001b[38;5;34m64\u001b[0m)     │             \u001b[38;5;34m0\u001b[0m │\n",
       "├─────────────────────────────────┼────────────────────────┼───────────────┤\n",
       "│ conv2d_2 (\u001b[38;5;33mConv2D\u001b[0m)               │ (\u001b[38;5;45mNone\u001b[0m, \u001b[38;5;34m33\u001b[0m, \u001b[38;5;34m34\u001b[0m, \u001b[38;5;34m128\u001b[0m)    │        \u001b[38;5;34m73,856\u001b[0m │\n",
       "├─────────────────────────────────┼────────────────────────┼───────────────┤\n",
       "│ max_pooling2d_2 (\u001b[38;5;33mMaxPooling2D\u001b[0m)  │ (\u001b[38;5;45mNone\u001b[0m, \u001b[38;5;34m16\u001b[0m, \u001b[38;5;34m17\u001b[0m, \u001b[38;5;34m128\u001b[0m)    │             \u001b[38;5;34m0\u001b[0m │\n",
       "├─────────────────────────────────┼────────────────────────┼───────────────┤\n",
       "│ flatten (\u001b[38;5;33mFlatten\u001b[0m)               │ (\u001b[38;5;45mNone\u001b[0m, \u001b[38;5;34m34816\u001b[0m)          │             \u001b[38;5;34m0\u001b[0m │\n",
       "├─────────────────────────────────┼────────────────────────┼───────────────┤\n",
       "│ dense (\u001b[38;5;33mDense\u001b[0m)                   │ (\u001b[38;5;45mNone\u001b[0m, \u001b[38;5;34m128\u001b[0m)            │     \u001b[38;5;34m4,456,576\u001b[0m │\n",
       "├─────────────────────────────────┼────────────────────────┼───────────────┤\n",
       "│ dropout (\u001b[38;5;33mDropout\u001b[0m)               │ (\u001b[38;5;45mNone\u001b[0m, \u001b[38;5;34m128\u001b[0m)            │             \u001b[38;5;34m0\u001b[0m │\n",
       "├─────────────────────────────────┼────────────────────────┼───────────────┤\n",
       "│ dense_1 (\u001b[38;5;33mDense\u001b[0m)                 │ (\u001b[38;5;45mNone\u001b[0m, \u001b[38;5;34m1\u001b[0m)              │           \u001b[38;5;34m129\u001b[0m │\n",
       "└─────────────────────────────────┴────────────────────────┴───────────────┘\n"
      ]
     },
     "metadata": {},
     "output_type": "display_data"
    },
    {
     "data": {
      "text/html": [
       "<pre style=\"white-space:pre;overflow-x:auto;line-height:normal;font-family:Menlo,'DejaVu Sans Mono',consolas,'Courier New',monospace\"><span style=\"font-weight: bold\"> Total params: </span><span style=\"color: #00af00; text-decoration-color: #00af00\">4,562,241</span> (17.40 MB)\n",
       "</pre>\n"
      ],
      "text/plain": [
       "\u001b[1m Total params: \u001b[0m\u001b[38;5;34m4,562,241\u001b[0m (17.40 MB)\n"
      ]
     },
     "metadata": {},
     "output_type": "display_data"
    },
    {
     "data": {
      "text/html": [
       "<pre style=\"white-space:pre;overflow-x:auto;line-height:normal;font-family:Menlo,'DejaVu Sans Mono',consolas,'Courier New',monospace\"><span style=\"font-weight: bold\"> Trainable params: </span><span style=\"color: #00af00; text-decoration-color: #00af00\">4,562,241</span> (17.40 MB)\n",
       "</pre>\n"
      ],
      "text/plain": [
       "\u001b[1m Trainable params: \u001b[0m\u001b[38;5;34m4,562,241\u001b[0m (17.40 MB)\n"
      ]
     },
     "metadata": {},
     "output_type": "display_data"
    },
    {
     "data": {
      "text/html": [
       "<pre style=\"white-space:pre;overflow-x:auto;line-height:normal;font-family:Menlo,'DejaVu Sans Mono',consolas,'Courier New',monospace\"><span style=\"font-weight: bold\"> Non-trainable params: </span><span style=\"color: #00af00; text-decoration-color: #00af00\">0</span> (0.00 B)\n",
       "</pre>\n"
      ],
      "text/plain": [
       "\u001b[1m Non-trainable params: \u001b[0m\u001b[38;5;34m0\u001b[0m (0.00 B)\n"
      ]
     },
     "metadata": {},
     "output_type": "display_data"
    },
    {
     "name": "stdout",
     "output_type": "stream",
     "text": [
      "Epoch 1/10\n"
     ]
    },
    {
     "name": "stderr",
     "output_type": "stream",
     "text": [
      "/home/maucasco/.local/lib/python3.10/site-packages/keras/src/trainers/data_adapters/py_dataset_adapter.py:121: UserWarning: Your `PyDataset` class should call `super().__init__(**kwargs)` in its constructor. `**kwargs` can include `workers`, `use_multiprocessing`, `max_queue_size`. Do not pass these arguments to `fit()`, as they will be ignored.\n",
      "  self._warn_if_super_not_called()\n",
      "2024-05-16 19:45:46.288845: W external/local_tsl/tsl/framework/cpu_allocator_impl.cc:83] Allocation of 89718784 exceeds 10% of free system memory.\n",
      "2024-05-16 19:45:46.366333: W external/local_tsl/tsl/framework/cpu_allocator_impl.cc:83] Allocation of 41287680 exceeds 10% of free system memory.\n",
      "2024-05-16 19:45:46.553512: W external/local_tsl/tsl/framework/cpu_allocator_impl.cc:83] Allocation of 41287680 exceeds 10% of free system memory.\n"
     ]
    },
    {
     "name": "stdout",
     "output_type": "stream",
     "text": [
      "\u001b[1m1/8\u001b[0m \u001b[32m━━\u001b[0m\u001b[37m━━━━━━━━━━━━━━━━━━\u001b[0m \u001b[1m17s\u001b[0m 2s/step - accuracy: 0.4062 - loss: 4.9729"
     ]
    },
    {
     "name": "stderr",
     "output_type": "stream",
     "text": [
      "2024-05-16 19:45:46.782205: W external/local_tsl/tsl/framework/cpu_allocator_impl.cc:83] Allocation of 44859392 exceeds 10% of free system memory.\n",
      "2024-05-16 19:45:46.782330: W external/local_tsl/tsl/framework/cpu_allocator_impl.cc:83] Allocation of 89718784 exceeds 10% of free system memory.\n"
     ]
    },
    {
     "name": "stdout",
     "output_type": "stream",
     "text": [
      "\u001b[1m8/8\u001b[0m \u001b[32m━━━━━━━━━━━━━━━━━━━━\u001b[0m\u001b[37m\u001b[0m \u001b[1m6s\u001b[0m 504ms/step - accuracy: 0.4341 - loss: 2.8647 - val_accuracy: 0.4206 - val_loss: 0.7743\n",
      "Epoch 2/10\n",
      "\u001b[1m8/8\u001b[0m \u001b[32m━━━━━━━━━━━━━━━━━━━━\u001b[0m\u001b[37m\u001b[0m \u001b[1m5s\u001b[0m 621ms/step - accuracy: 0.6265 - loss: 1.0652 - val_accuracy: 0.4299 - val_loss: 0.8347\n",
      "Epoch 3/10\n",
      "\u001b[1m8/8\u001b[0m \u001b[32m━━━━━━━━━━━━━━━━━━━━\u001b[0m\u001b[37m\u001b[0m \u001b[1m6s\u001b[0m 676ms/step - accuracy: 0.4510 - loss: 1.1538 - val_accuracy: 0.4299 - val_loss: 0.8447\n",
      "Epoch 4/10\n",
      "\u001b[1m8/8\u001b[0m \u001b[32m━━━━━━━━━━━━━━━━━━━━\u001b[0m\u001b[37m\u001b[0m \u001b[1m6s\u001b[0m 691ms/step - accuracy: 0.4903 - loss: 0.9611 - val_accuracy: 0.5981 - val_loss: 0.6865\n",
      "Epoch 5/10\n",
      "\u001b[1m8/8\u001b[0m \u001b[32m━━━━━━━━━━━━━━━━━━━━\u001b[0m\u001b[37m\u001b[0m \u001b[1m6s\u001b[0m 759ms/step - accuracy: 0.5466 - loss: 0.9307 - val_accuracy: 0.5234 - val_loss: 0.9142\n",
      "Epoch 6/10\n",
      "\u001b[1m8/8\u001b[0m \u001b[32m━━━━━━━━━━━━━━━━━━━━\u001b[0m\u001b[37m\u001b[0m \u001b[1m8s\u001b[0m 935ms/step - accuracy: 0.5674 - loss: 0.9979 - val_accuracy: 0.5794 - val_loss: 0.7696\n",
      "Epoch 7/10\n",
      "\u001b[1m8/8\u001b[0m \u001b[32m━━━━━━━━━━━━━━━━━━━━\u001b[0m\u001b[37m\u001b[0m \u001b[1m7s\u001b[0m 887ms/step - accuracy: 0.6055 - loss: 0.8513 - val_accuracy: 0.6916 - val_loss: 0.6626\n",
      "Epoch 8/10\n",
      "\u001b[1m8/8\u001b[0m \u001b[32m━━━━━━━━━━━━━━━━━━━━\u001b[0m\u001b[37m\u001b[0m \u001b[1m5s\u001b[0m 571ms/step - accuracy: 0.7165 - loss: 0.9734 - val_accuracy: 0.7196 - val_loss: 0.5781\n",
      "Epoch 9/10\n",
      "\u001b[1m8/8\u001b[0m \u001b[32m━━━━━━━━━━━━━━━━━━━━\u001b[0m\u001b[37m\u001b[0m \u001b[1m8s\u001b[0m 772ms/step - accuracy: 0.7405 - loss: 0.8325 - val_accuracy: 0.6822 - val_loss: 0.6472\n",
      "Epoch 10/10\n",
      "\u001b[1m8/8\u001b[0m \u001b[32m━━━━━━━━━━━━━━━━━━━━\u001b[0m\u001b[37m\u001b[0m \u001b[1m6s\u001b[0m 693ms/step - accuracy: 0.8076 - loss: 0.6736 - val_accuracy: 0.7009 - val_loss: 0.7714\n"
     ]
    }
   ],
   "source": [
    "import tensorflow as tf\n",
    "from keras.layers import Dropout\n",
    "from keras.optimizers import Adam\n",
    "from tensorflow.keras.utils import plot_model\n",
    "modelo = Sequential([\n",
    "            Conv2D(32, (3,3), activation='relu', input_shape=(150, 150, 3)),\n",
    "            MaxPooling2D(pool_size=(2,2)),\n",
    "            Conv2D(64, (5,3), activation='relu'), # 3,3 o 5,5, buscar que es padding\n",
    "            MaxPooling2D(pool_size=(2,2)),\n",
    "            Conv2D(128, (3, 3), activation='relu'), # Capa adicional\n",
    "            MaxPooling2D((2, 2)),\n",
    "            Flatten(),\n",
    "            Dense(128, activation='relu'),\n",
    "            Dropout(0.5),  # Capa de abandono para regularización\n",
    "            Dense(1, activation='sigmoid'),  # Añade la capa Dense según el tamaño de salida de Flatten\n",
    "        ])\n",
    "\n",
    "\n",
    "# Aquí puedes imprimir la forma de la salida para ver cuántas neuronas necesita la siguiente capa Dense\n",
    "modelo.summary()\n",
    "\n",
    "\n",
    "modelo.compile(optimizer=Adam(learning_rate=0.001, beta_1=0.9, beta_2=0.999),  # Ajustar la tasa de aprendizaje\n",
    "    loss='binary_crossentropy',  \n",
    "    metrics=['accuracy'])\n",
    "\n",
    "weights = {0: 1, 1: 10} \n",
    "historial = modelo.fit(\n",
    "    generator,\n",
    "    epochs=10,\n",
    "      class_weight=weights,  # Aumentar el número de épocas\n",
    "    validation_data=validation_generator,\n",
    "    batch_size=32\n",
    ")\n"
   ]
  },
  {
   "cell_type": "code",
   "execution_count": 3,
   "metadata": {},
   "outputs": [
    {
     "data": {
      "image/png": "[encoded data removed]",
      "text/plain": [
       "<Figure size 640x480 with 1 Axes>"
      ]
     },
     "metadata": {},
     "output_type": "display_data"
    },
    {
     "data": {
      "image/png": "[encoded data removed]",
      "text/plain": [
       "<Figure size 640x480 with 1 Axes>"
      ]
     },
     "metadata": {},
     "output_type": "display_data"
    }
   ],
   "source": [
    "\n",
    "# Gráficos de precisión y pérdida\n",
    "plt.plot(historial.history['accuracy'])\n",
    "plt.plot(historial.history['val_accuracy'])  # Precisión de validación\n",
    "plt.title('Precisión del modelo')\n",
    "plt.ylabel('Precisión')\n",
    "plt.xlabel('Época')\n",
    "plt.legend(['Entrenamiento', 'Validación'], loc='upper left')\n",
    "plt.show()\n",
    "\n",
    "plt.plot(historial.history['loss'])\n",
    "plt.plot(historial.history['val_loss'])  # Pérdida de validación\n",
    "plt.title('Pérdida del modelo')\n",
    "plt.ylabel('Pérdida')\n",
    "plt.xlabel('Época')# Añade la capa Dense según el tamaño de salida de Flatten\n",
    "\n",
    "\n",
    "plt.legend(['Entrenamiento', 'Validación'], loc='upper left')\n",
    "plt.show()"
   ]
  },
  {
   "cell_type": "code",
   "execution_count": null,
   "metadata": {},
   "outputs": [],
   "source": [
    "plot_model(modelo, to_file='/home/maucasco/Documents/maestria/proyecto_grado/pujc-advocato-filter-project-mngr/modelo1_cnn.png', show_shapes=True, show_layer_names=True)"
   ]
  },
  {
   "cell_type": "code",
   "execution_count": 6,
   "metadata": {},
   "outputs": [
    {
     "name": "stdout",
     "output_type": "stream",
     "text": [
      "\u001b[1m4/4\u001b[0m \u001b[32m━━━━━━━━━━━━━━━━━━━━\u001b[0m\u001b[37m\u001b[0m \u001b[1m0s\u001b[0m 77ms/step \n",
      "[[0.5483234 ]\n",
      " [0.9999999 ]\n",
      " [0.41433403]\n",
      " [0.814026  ]\n",
      " [0.20899498]\n",
      " [0.9999653 ]\n",
      " [0.68082905]\n",
      " [0.36787486]\n",
      " [0.31814083]\n",
      " [0.21309526]\n",
      " [0.99999624]\n",
      " [0.9999991 ]\n",
      " [0.5031221 ]\n",
      " [0.18604362]\n",
      " [0.6832364 ]\n",
      " [1.        ]\n",
      " [1.        ]\n",
      " [0.51069504]\n",
      " [0.99998665]\n",
      " [0.57460386]\n",
      " [0.5610392 ]\n",
      " [0.99517393]\n",
      " [0.99999964]\n",
      " [0.15021518]\n",
      " [0.38972354]\n",
      " [0.99982214]\n",
      " [0.999991  ]\n",
      " [0.72793597]\n",
      " [0.99999994]\n",
      " [0.27003357]\n",
      " [0.7068116 ]\n",
      " [0.7237839 ]\n",
      " [0.66147286]\n",
      " [0.28363743]\n",
      " [0.29663864]\n",
      " [0.99999964]\n",
      " [0.44757125]\n",
      " [0.19375455]\n",
      " [0.35851282]\n",
      " [0.96910447]\n",
      " [0.5936086 ]\n",
      " [0.50924075]\n",
      " [0.330853  ]\n",
      " [0.6326925 ]\n",
      " [0.53249896]\n",
      " [0.9056248 ]\n",
      " [0.9999834 ]\n",
      " [0.9999994 ]\n",
      " [0.5923982 ]\n",
      " [0.29255673]\n",
      " [0.2574891 ]\n",
      " [0.6096347 ]\n",
      " [0.99998283]\n",
      " [0.9999903 ]\n",
      " [0.9999939 ]\n",
      " [0.99997854]\n",
      " [0.15861218]\n",
      " [0.38844955]\n",
      " [1.        ]\n",
      " [0.99998146]\n",
      " [0.99999994]\n",
      " [0.75046164]\n",
      " [0.66463387]\n",
      " [0.99999577]\n",
      " [0.9999983 ]\n",
      " [0.19994076]\n",
      " [0.46340486]\n",
      " [0.99995446]\n",
      " [0.99999917]\n",
      " [0.9999982 ]\n",
      " [0.5573781 ]\n",
      " [0.4622529 ]\n",
      " [0.9999906 ]\n",
      " [1.        ]\n",
      " [0.2867003 ]\n",
      " [0.5681926 ]\n",
      " [0.49240646]\n",
      " [0.50161463]\n",
      " [0.4254281 ]\n",
      " [0.9950542 ]\n",
      " [0.9999993 ]\n",
      " [0.99999917]\n",
      " [0.9999992 ]\n",
      " [1.        ]\n",
      " [1.        ]\n",
      " [0.82576805]\n",
      " [0.5076081 ]\n",
      " [0.53526545]\n",
      " [0.12090413]\n",
      " [0.9998843 ]\n",
      " [0.22844824]\n",
      " [0.23651522]\n",
      " [0.99999833]\n",
      " [0.99990857]\n",
      " [0.2752517 ]\n",
      " [0.8076995 ]\n",
      " [0.9999934 ]\n",
      " [0.9999806 ]\n",
      " [0.4910224 ]\n",
      " [0.9999999 ]\n",
      " [0.99999994]\n",
      " [0.25851846]\n",
      " [0.18763083]\n",
      " [0.7390385 ]\n",
      " [0.99999166]\n",
      " [0.9999988 ]\n",
      " [0.9999762 ]]\n",
      "[0 0 0 0 0 0 0 0 0 0 0 0 0 0 0 0 0 0 0 0 0 0 0 0 0 0 0 0 0 0 0 0 0 0 0 0 0\n",
      " 0 0 0 0 0 0 0 0 0 0 0 0 0 0 0 0 0 0 0 0 0 0 0 0 0 0 0 0 0 0 0 0 0 0 0 0 0\n",
      " 0 0 0 0 0 0 0 0 0 0 0 0 0 0 0 0 0 0 0 0 0 0 0 0 0 0 0 0 0 0 0 0 0]\n",
      "[0 0 0 0 0 0 0 0 0 0 0 0 0 0 0 0 0 0 0 0 0 0 0 0 0 0 0 0 0 0 0 0 0 0 0 0 0\n",
      " 0 0 0 0 0 0 0 0 0 0 0 0 0 0 0 0 0 0 0 0 0 0 0 0 0 1 1 1 1 1 1 1 1 1 1 1 1\n",
      " 1 1 1 1 1 1 1 1 1 1 1 1 1 1 1 1 1 1 1 1 1 1 1 1 1 1 1 1 1 1 1 1 1]\n",
      "Confusion Matrix\n",
      "[[62  0]\n",
      " [45  0]]\n",
      "['Heilipus', 'Sano']\n"
     ]
    },
    {
     "data": {
      "image/png": "[encoded data removed]",
      "text/plain": [
       "<Figure size 1000x700 with 2 Axes>"
      ]
     },
     "metadata": {},
     "output_type": "display_data"
    },
    {
     "name": "stdout",
     "output_type": "stream",
     "text": [
      "Classification Report\n",
      "{'0': {'precision': 0.5794392523364486, 'recall': 1.0, 'f1-score': 0.7337278106508875, 'support': 62.0}, '1': {'precision': 0.0, 'recall': 0.0, 'f1-score': 0.0, 'support': 45.0}, 'accuracy': 0.5794392523364486, 'macro avg': {'precision': 0.2897196261682243, 'recall': 0.5, 'f1-score': 0.3668639053254438, 'support': 107.0}, 'weighted avg': {'precision': 0.33574984714822254, 'recall': 0.5794392523364486, 'f1-score': 0.4251506940220096, 'support': 107.0}}\n"
     ]
    },
    {
     "name": "stderr",
     "output_type": "stream",
     "text": [
      "/home/maucasco/.local/lib/python3.10/site-packages/sklearn/metrics/_classification.py:1469: UndefinedMetricWarning: Precision and F-score are ill-defined and being set to 0.0 in labels with no predicted samples. Use `zero_division` parameter to control this behavior.\n",
      "  _warn_prf(average, modifier, msg_start, len(result))\n",
      "/home/maucasco/.local/lib/python3.10/site-packages/sklearn/metrics/_classification.py:1469: UndefinedMetricWarning: Precision and F-score are ill-defined and being set to 0.0 in labels with no predicted samples. Use `zero_division` parameter to control this behavior.\n",
      "  _warn_prf(average, modifier, msg_start, len(result))\n",
      "/home/maucasco/.local/lib/python3.10/site-packages/sklearn/metrics/_classification.py:1469: UndefinedMetricWarning: Precision and F-score are ill-defined and being set to 0.0 in labels with no predicted samples. Use `zero_division` parameter to control this behavior.\n",
      "  _warn_prf(average, modifier, msg_start, len(result))\n"
     ]
    },
    {
     "data": {
      "text/html": [
       "<style type=\"text/css\">\n",
       "#T_c0ffc_row0_col0, #T_c0ffc_row0_col1, #T_c0ffc_row0_col2, #T_c0ffc_row2_col0, #T_c0ffc_row3_col3, #T_c0ffc_row4_col3 {\n",
       "  background-color: #0000ff;\n",
       "  color: #f1f1f1;\n",
       "}\n",
       "#T_c0ffc_row0_col3 {\n",
       "  background-color: #6666fa;\n",
       "  color: #f1f1f1;\n",
       "}\n",
       "#T_c0ffc_row1_col0, #T_c0ffc_row1_col1, #T_c0ffc_row1_col2, #T_c0ffc_row2_col3 {\n",
       "  background-color: #f0f0f3;\n",
       "  color: #000000;\n",
       "}\n",
       "#T_c0ffc_row1_col3 {\n",
       "  background-color: #8c8cf8;\n",
       "  color: #f1f1f1;\n",
       "}\n",
       "#T_c0ffc_row2_col1, #T_c0ffc_row4_col0, #T_c0ffc_row4_col1, #T_c0ffc_row4_col2 {\n",
       "  background-color: #6565fa;\n",
       "  color: #f1f1f1;\n",
       "}\n",
       "#T_c0ffc_row2_col2 {\n",
       "  background-color: #3232fc;\n",
       "  color: #f1f1f1;\n",
       "}\n",
       "#T_c0ffc_row3_col0, #T_c0ffc_row3_col1, #T_c0ffc_row3_col2 {\n",
       "  background-color: #7878f9;\n",
       "  color: #f1f1f1;\n",
       "}\n",
       "</style>\n",
       "<table id=\"T_c0ffc\">\n",
       "  <thead>\n",
       "    <tr>\n",
       "      <th class=\"blank level0\" >&nbsp;</th>\n",
       "      <th id=\"T_c0ffc_level0_col0\" class=\"col_heading level0 col0\" >precision</th>\n",
       "      <th id=\"T_c0ffc_level0_col1\" class=\"col_heading level0 col1\" >recall</th>\n",
       "      <th id=\"T_c0ffc_level0_col2\" class=\"col_heading level0 col2\" >f1-score</th>\n",
       "      <th id=\"T_c0ffc_level0_col3\" class=\"col_heading level0 col3\" >support</th>\n",
       "    </tr>\n",
       "  </thead>\n",
       "  <tbody>\n",
       "    <tr>\n",
       "      <th id=\"T_c0ffc_level0_row0\" class=\"row_heading level0 row0\" >0</th>\n",
       "      <td id=\"T_c0ffc_row0_col0\" class=\"data row0 col0\" >0.579439</td>\n",
       "      <td id=\"T_c0ffc_row0_col1\" class=\"data row0 col1\" >1.000000</td>\n",
       "      <td id=\"T_c0ffc_row0_col2\" class=\"data row0 col2\" >0.733728</td>\n",
       "      <td id=\"T_c0ffc_row0_col3\" class=\"data row0 col3\" >62.000000</td>\n",
       "    </tr>\n",
       "    <tr>\n",
       "      <th id=\"T_c0ffc_level0_row1\" class=\"row_heading level0 row1\" >1</th>\n",
       "      <td id=\"T_c0ffc_row1_col0\" class=\"data row1 col0\" >0.000000</td>\n",
       "      <td id=\"T_c0ffc_row1_col1\" class=\"data row1 col1\" >0.000000</td>\n",
       "      <td id=\"T_c0ffc_row1_col2\" class=\"data row1 col2\" >0.000000</td>\n",
       "      <td id=\"T_c0ffc_row1_col3\" class=\"data row1 col3\" >45.000000</td>\n",
       "    </tr>\n",
       "    <tr>\n",
       "      <th id=\"T_c0ffc_level0_row2\" class=\"row_heading level0 row2\" >accuracy</th>\n",
       "      <td id=\"T_c0ffc_row2_col0\" class=\"data row2 col0\" >0.579439</td>\n",
       "      <td id=\"T_c0ffc_row2_col1\" class=\"data row2 col1\" >0.579439</td>\n",
       "      <td id=\"T_c0ffc_row2_col2\" class=\"data row2 col2\" >0.579439</td>\n",
       "      <td id=\"T_c0ffc_row2_col3\" class=\"data row2 col3\" >0.579439</td>\n",
       "    </tr>\n",
       "    <tr>\n",
       "      <th id=\"T_c0ffc_level0_row3\" class=\"row_heading level0 row3\" >macro avg</th>\n",
       "      <td id=\"T_c0ffc_row3_col0\" class=\"data row3 col0\" >0.289720</td>\n",
       "      <td id=\"T_c0ffc_row3_col1\" class=\"data row3 col1\" >0.500000</td>\n",
       "      <td id=\"T_c0ffc_row3_col2\" class=\"data row3 col2\" >0.366864</td>\n",
       "      <td id=\"T_c0ffc_row3_col3\" class=\"data row3 col3\" >107.000000</td>\n",
       "    </tr>\n",
       "    <tr>\n",
       "      <th id=\"T_c0ffc_level0_row4\" class=\"row_heading level0 row4\" >weighted avg</th>\n",
       "      <td id=\"T_c0ffc_row4_col0\" class=\"data row4 col0\" >0.335750</td>\n",
       "      <td id=\"T_c0ffc_row4_col1\" class=\"data row4 col1\" >0.579439</td>\n",
       "      <td id=\"T_c0ffc_row4_col2\" class=\"data row4 col2\" >0.425151</td>\n",
       "      <td id=\"T_c0ffc_row4_col3\" class=\"data row4 col3\" >107.000000</td>\n",
       "    </tr>\n",
       "  </tbody>\n",
       "</table>\n"
      ],
      "text/plain": [
       "<pandas.io.formats.style.Styler at 0x75a9f82dd3c0>"
      ]
     },
     "metadata": {},
     "output_type": "display_data"
    }
   ],
   "source": [
    "from sklearn.metrics import classification_report, confusion_matrix, roc_curve, auc\n",
    "import seaborn as sns\n",
    "# Evaluar el modelo en el conjunto de prueba o validación\n",
    "# Asumiendo que tienes `validation_generator` como tu conjunto de validación/test\n",
    "y_pred = modelo.predict(validation_generator)\n",
    "y_test = validation_generator.classes  # Etiquetas verdaderas\n",
    "print(y_pred)\n",
    "y_pred = np.argmax(y_pred, axis=1)  # esto cambia por que es una sola neurona hardlim   \n",
    "print(y_pred)\n",
    "print(y_test)\n",
    "# Matriz de confusiónvalidation_generator\n",
    "print(\"Confusion Matrix\")\n",
    "# Matriz de confusión\n",
    "cm = confusion_matrix(y_test, y_pred)\n",
    "print(cm)\n",
    "# Obtener nombres de clases desde el generador\n",
    "class_names = list(validation_generator.class_indices.keys())\n",
    "print(class_names)\n",
    "# Visualización de la matriz de confusión\n",
    "plt.figure(figsize=(10,7))\n",
    "sns.heatmap(cm, annot=True, fmt=\"d\", cmap='Blues', xticklabels=class_names, yticklabels=class_names)\n",
    "plt.xlabel('Predicción')\n",
    "plt.ylabel('Verdadero')\n",
    "plt.title('Confusion Matrix')\n",
    "plt.show()\n",
    "\n",
    "\n",
    "# Informe de clasificación\n",
    "\n",
    "report = classification_report(y_test, y_pred, output_dict=True)\n",
    "print(\"Classification Report\")\n",
    "print(report)\n",
    "report_df = pd.DataFrame(report).transpose()\n",
    "report_df.to_csv('classification_report_cnn.csv', index=True)\n",
    "\n",
    "cm = sns.light_palette(\"blue\", as_cmap=True)\n",
    "styled_df = report_df.style.background_gradient(cmap=cm)\n",
    "display(styled_df)\n"
   ]
  },
  {
   "cell_type": "code",
   "execution_count": null,
   "metadata": {},
   "outputs": [],
   "source": [
    "# Si y_pred es unidimensional, no necesitas indexarlo con [:, 1]\n",
    "if y_pred.ndim == 1:\n",
    "    fpr, tpr, thresholds = roc_curve(y_test, y_pred)\n",
    "    roc_auc = auc(fpr, tpr)\n",
    "\n",
    "    # Visualización de la curva ROC\n",
    "    plt.figure()\n",
    "    plt.plot(fpr, tpr, color='darkorange', label=f'ROC curve (area = {roc_auc:.2f})')\n",
    "    plt.plot([0, 1], [0, 1], color='navy', linestyle='--')\n",
    "    plt.xlim([0.0, 1.0])\n",
    "    plt.ylim([0.0, 1.05])\n",
    "    plt.xlabel('Tasa Falsos Positivos')\n",
    "    plt.ylabel('Tasa de falsos Negativos')\n",
    "    plt.title('Curva ROC ')\n",
    "    plt.legend(loc=\"lower right\")\n",
    "    plt.show()"
   ]
  },
  {
   "cell_type": "code",
   "execution_count": null,
   "metadata": {},
   "outputs": [],
   "source": [
    "from keras.models import Model\n",
    "import matplotlib.pyplot as plt\n",
    "\n",
    "# Crear un modelo que devuelva las activaciones de la primera capa convolucional\n",
    "activation_model = Model(inputs=modelo.input, outputs=modelo.layers[0].output)\n",
    "\n",
    "# Obtener las activaciones de la primera capa convolucional para la primera imagen en el conjunto de entrenamiento\n",
    "activations = activation_model.predict(validation_generator[0][0][0].reshape(1, 500, 500, 3))\n",
    "\n",
    "# Visualizar las activaciones de los primeros 6 filtros\n",
    "fig, axes = plt.subplots(nrows=2, ncols=3, figsize=(15, 10))\n",
    "for i, ax in enumerate(axes.flat):\n",
    "    ax.imshow(activations[0, :, :, i], cmap='viridis')\n",
    "    ax.axis('off')\n",
    "plt.show()"
   ]
  },
  {
   "cell_type": "code",
   "execution_count": null,
   "metadata": {},
   "outputs": [],
   "source": [
    "from sklearn.model_selection import KFold\n",
    "import numpy as np\n",
    "\n",
    "# Suponiendo que tienes todas tus imágenes y etiquetas cargadas en X e Y\n",
    "# X, Y = load_data()\n",
    "\n",
    "n_splits = 5\n",
    "kf = KFold(n_splits=n_splits, shuffle=True)\n",
    "\n",
    "fold_no = 1\n",
    "for train_index, val_index in kf.split(X):\n",
    "    X_train, X_val = X[train_index], X[val_index]\n",
    "    Y_train, Y_val = Y[train_index], Y[val_index]\n",
    "\n",
    "    # Crear el modelo de CNN aquí\n",
    "    modelo = Sequential([\n",
    "        Conv2D(32, (3, 3), activation='relu', input_shape=(100, 130, 3)),\n",
    "        MaxPooling2D((2, 2)),\n",
    "        Conv2D(64, (3, 3), activation='relu'),\n",
    "        MaxPooling2D((2, 2)),\n",
    "        Flatten(),\n",
    "        Dense(128, activation='relu'),\n",
    "        Dense(2, activation='softmax')\n",
    "    ])\n",
    "\n",
    "    modelo.compile(optimizer='adam',\n",
    "                   loss='binary_crossentropy',\n",
    "                   metrics=['accuracy'])\n",
    "\n",
    "    # Entrenar el modelo\n",
    "    modelo.fit(X_train, Y_train, validation_data=(X_val, Y_val), epochs=10, batch_size=32)\n",
    "\n",
    "    # Evaluar el modelo\n",
    "    scores = modelo.evaluate(X_val, Y_val, verbose=0)\n",
    "    print(f'Score for fold {fold_no}: {modelo.metrics_names[1]} of {scores[1]*100}%')\n",
    "    \n",
    "    fold_no += 1"
   ]
  },
  {
   "cell_type": "code",
   "execution_count": null,
   "metadata": {},
   "outputs": [],
   "source": [
    "# Guardar el modelo en un archivo\n",
    "modelo.save('/home/maucasco/Documents/maestria/proyecto_grado/pujc-advocato-filter-project-mngr/modelo/modelo_cnn.h5')\n"
   ]
  },
  {
   "cell_type": "code",
   "execution_count": null,
   "metadata": {},
   "outputs": [],
   "source": [
    "# Cargar el modelo desde un archivo\n",
    "from keras.models import load_model\n",
    "modelo = load_model('/home/maucasco/Documents/maestria/proyecto_grado/pujc-advocato-filter-project-mngr/modelo/modelo_cnn.h5')"
   ]
  },
  {
   "cell_type": "code",
   "execution_count": null,
   "metadata": {},
   "outputs": [],
   "source": [
    "\n",
    "from keras.preprocessing import image\n",
    "import numpy as np\n",
    "# Load and preprocess the image\n",
    "img_path = '/home/maucasco/Downloads/images.jpeg'\n",
    "imagen = cv2.imread(img_path)[100:, :]\n",
    "imagen_sin_texto,aguacate_solo, redimenciada = ProcessImages().procesar(imagen,500,500)\n",
    "img_array = image.img_to_array(redimenciada)\n",
    "\n",
    "\n",
    "plt.imshow(redimenciada, cmap='gray')\n",
    "plt.show()\n",
    "img_array = np.expand_dims(img_array, axis=0)\n",
    "img_array /= 255.0\n",
    "\n",
    "# Make predictions\n",
    "predictions = modelo.predict(img_array)\n",
    "print(predictions)"
   ]
  }
 ],
 "metadata": {
  "kernelspec": {
   "display_name": "Python 3",
   "language": "python",
   "name": "python3"
  },
  "language_info": {
   "codemirror_mode": {
    "name": "ipython",
    "version": 3
   },
   "file_extension": ".py",
   "mimetype": "text/x-python",
   "name": "python",
   "nbconvert_exporter": "python",
   "pygments_lexer": "ipython3",
   "version": "3.10.12"
  }
 },
 "nbformat": 4,
 "nbformat_minor": 2
}
