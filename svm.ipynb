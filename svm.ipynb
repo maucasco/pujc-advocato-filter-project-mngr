{
 "cells": [
  {
   "cell_type": "code",
   "execution_count": 1,
   "metadata": {},
   "outputs": [
    {
     "name": "stderr",
     "output_type": "stream",
     "text": [
      "2024-05-26 16:37:56.939067: I external/local_tsl/tsl/cuda/cudart_stub.cc:32] Could not find cuda drivers on your machine, GPU will not be used.\n",
      "2024-05-26 16:37:56.942419: I external/local_tsl/tsl/cuda/cudart_stub.cc:32] Could not find cuda drivers on your machine, GPU will not be used.\n",
      "2024-05-26 16:37:56.977611: I tensorflow/core/platform/cpu_feature_guard.cc:210] This TensorFlow binary is optimized to use available CPU instructions in performance-critical operations.\n",
      "To enable the following instructions: AVX2 FMA, in other operations, rebuild TensorFlow with the appropriate compiler flags.\n",
      "2024-05-26 16:37:57.691912: W tensorflow/compiler/tf2tensorrt/utils/py_utils.cc:38] TF-TRT Warning: Could not find TensorRT\n"
     ]
    }
   ],
   "source": [
    "from sklearn import svm\n",
    "from keras.models import Model\n",
    "import numpy as np\n",
    "from sklearn.metrics import accuracy_score, classification_report, confusion_matrix\n",
    "from sklearn.model_selection import train_test_split\n",
    "import pandas as pd\n",
    "import matplotlib.pyplot as plt\n",
    "import seaborn as sns\n",
    "from edu.javerianacali.process_images import ProcessImages\n",
    "import tabulate \n",
    "\n",
    "directorio = \"/data/maestria/maestriasinpro/proyectodegrado/pujc-advocato-filter-project-mngr/assets\"\n"
   ]
  },
  {
   "cell_type": "markdown",
   "metadata": {},
   "source": [
    "# AUMENTO DE DATOS"
   ]
  },
  {
   "cell_type": "code",
   "execution_count": null,
   "metadata": {},
   "outputs": [],
   "source": [
    "\n",
    "from edu.javerianacali.data_aumentation import DataAugmentation\n",
    "\n",
    "DataAugmentation().augment_images(directorio+'/poquitas'\n",
    "\n",
    ")"
   ]
  },
  {
   "cell_type": "markdown",
   "metadata": {},
   "source": [
    "# PROCESAR INAGENES PARA MODELOS DE APRENDIZAJE SUPERVISADO"
   ]
  },
  {
   "cell_type": "code",
   "execution_count": null,
   "metadata": {},
   "outputs": [],
   "source": [
    "path=directorio+'/poquitas'\n",
    "archivos = os.listdir(path)\n",
    "for archivo in archivos:\n",
    "    if archivo.endswith((\".jpg\", \".JPG\", \".jpeg\", \".png\")):\n",
    "        ruta_imagen = os.path.join(path, archivo)\n",
    "        titulos = [\"Ori\", \"SinTex\",\"Sinsomb\", archivo]\n",
    "        imagenes = ProcessImages().procesar_imagen(ruta_imagen,archivo,directorio,200,200)\n",
    "        ProcessImages().mostrar_imagenes(titulos, imagenes)\n",
    "\n"
   ]
  },
  {
   "cell_type": "code",
   "execution_count": null,
   "metadata": {},
   "outputs": [],
   "source": [
    "\n",
    "\n",
    "from edu.javerianacali.create_dataset import CreateDataSet\n",
    "create_dataset = CreateDataSet().create_dataset(directorio)\n",
    "features, labels = create_dataset[0], create_dataset[1]\n"
   ]
  },
  {
   "cell_type": "code",
   "execution_count": null,
   "metadata": {},
   "outputs": [],
   "source": [
    "# Convertir la lista aplanada en un array de NumPy\n",
    "X = np.array(features)\n",
    "y = np.array(labels)\n",
    "\n",
    "# Dividir el conjunto de datos en entrenamiento y prueba\n",
    "X_train, X_test, y_train, y_test = train_test_split(X, y, test_size=0.3, random_state=42)\n",
    "\n",
    "# Crear el modelo SVM\n",
    "model = svm.SVC(kernel='linear', probability=True)\n",
    "\n",
    "# Entrenar el modelo SVM\n",
    "model.fit(X_train, y_train)\n",
    "\n",
    "# Predecir etiquetas para el conjunto de prueba\n",
    "y_pred = model.predict(X_test)\n",
    "\n",
    "accuracy = accuracy_score(y_test, y_pred)\n",
    "print(f\"Accuracy: {accuracy:.2f}\")\n"
   ]
  },
  {
   "cell_type": "code",
   "execution_count": null,
   "metadata": {},
   "outputs": [],
   "source": [
    "support_vectors = model.support_vectors_\n",
    "\n",
    "plt.scatter(X_train[:, 0], X_train[:, 1], c=y_train, s=30, cmap=plt.cm.Paired)\n",
    "plt.scatter(support_vectors[:, 0], support_vectors[:, 1], facecolors='none', edgecolors='k', s=100)\n",
    "plt.title(\"Support Vectors\")\n",
    "plt.xlabel(\"Sanos\")\n",
    "plt.ylabel(\"Enfermos\")\n",
    "plt.show()"
   ]
  },
  {
   "cell_type": "code",
   "execution_count": null,
   "metadata": {},
   "outputs": [],
   "source": [
    "from sklearn.model_selection import learning_curve\n",
    "\n",
    "train_sizes, train_scores, val_scores = learning_curve(model, X_train.reshape(len(X_train), -1), y_train, cv=5)\n",
    "\n",
    "plt.plot(train_sizes, train_scores.mean(axis=1), label=' Score de Entrenamiento')\n",
    "plt.plot(train_sizes, val_scores.mean(axis=1), label='Score de Validación')\n",
    "plt.xlabel('Tamaño de entreamiento')\n",
    "plt.ylabel('Score')\n",
    "plt.title('Curva de Entremaniento')\n",
    "plt.legend()\n",
    "plt.show()"
   ]
  },
  {
   "cell_type": "code",
   "execution_count": null,
   "metadata": {},
   "outputs": [],
   "source": [
    "\n",
    "# Matriz de confusión\n",
    "print(\"Confusion Matrix\")\n",
    "# Matriz de confusión\n",
    "cm = confusion_matrix(y_test, y_pred)\n",
    "\n",
    "print(cm)\n",
    "# Visualización de la matriz de confusión\n",
    "plt.figure(figsize=(10,7))\n",
    "sns.heatmap(cm, annot=True, fmt=\"d\", cmap='Blues')\n",
    "plt.xlabel('Predicción')\n",
    "plt.ylabel('Verdadero')\n",
    "plt.title('Confusion Matrix')\n",
    "plt.show()\n",
    "\n",
    "\n",
    "# Informe de clasificación\n",
    "\n",
    "report = classification_report(y_test, y_pred, output_dict=True)\n",
    "print(\"Classification Report\")\n",
    "print(report)\n",
    "report_df = pd.DataFrame(report).transpose()\n",
    "report_df.to_csv('classification_report_cnn.csv', index=True)\n",
    "\n",
    "cm = sns.light_palette(\"blue\", as_cmap=True)\n",
    "styled_df = report_df.style.background_gradient(cmap=cm)\n",
    "display(styled_df)\n"
   ]
  }
 ],
 "metadata": {
  "kernelspec": {
   "display_name": "Python 3",
   "language": "python",
   "name": "python3"
  },
  "language_info": {
   "codemirror_mode": {
    "name": "ipython",
    "version": 3
   },
   "file_extension": ".py",
   "mimetype": "text/x-python",
   "name": "python",
   "nbconvert_exporter": "python",
   "pygments_lexer": "ipython3",
   "version": "3.12.3"
  }
 },
 "nbformat": 4,
 "nbformat_minor": 2
}
